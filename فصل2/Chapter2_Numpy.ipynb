{
 "cells": [
  {
   "cell_type": "code",
   "execution_count": null,
   "id": "efab0fb2",
   "metadata": {},
   "outputs": [],
   "source": [
    "import numpy as np"
   ]
  },
  {
   "cell_type": "code",
   "execution_count": null,
   "id": "130c44b9",
   "metadata": {},
   "outputs": [],
   "source": [
    "A=[1,2,4,5,8]\n",
    "np.array(A)"
   ]
  },
  {
   "cell_type": "code",
   "execution_count": null,
   "id": "982211af",
   "metadata": {},
   "outputs": [],
   "source": [
    "B=[[1,2,3],[4,5,6],[7,8,9]]\n",
    "np.array(B)"
   ]
  },
  {
   "cell_type": "code",
   "execution_count": null,
   "id": "0b3a3a7b",
   "metadata": {},
   "outputs": [],
   "source": [
    "np.arange(0,30,5)\n",
    "#np.arange(0,31,5)"
   ]
  },
  {
   "cell_type": "code",
   "execution_count": null,
   "id": "7380c2e2",
   "metadata": {},
   "outputs": [],
   "source": [
    "np.linspace(0,15,5)"
   ]
  },
  {
   "cell_type": "code",
   "execution_count": null,
   "id": "bc40af0d",
   "metadata": {},
   "outputs": [],
   "source": [
    "np.zeros(5) # آرایه یک بعدی صفر"
   ]
  },
  {
   "cell_type": "code",
   "execution_count": null,
   "id": "12193587",
   "metadata": {},
   "outputs": [],
   "source": [
    "np.ones((2,4)) # آرایه دو بعدی یک"
   ]
  },
  {
   "cell_type": "code",
   "execution_count": null,
   "id": "9d878d59",
   "metadata": {},
   "outputs": [],
   "source": [
    "np.eye(4) # ماتریس یکه 4 در 4"
   ]
  },
  {
   "cell_type": "code",
   "execution_count": null,
   "id": "9e9fec3f",
   "metadata": {},
   "outputs": [],
   "source": [
    "#np.random.seed(10)\n",
    "np.random.seed(20)\n",
    "np.random.randint(1,20,5)"
   ]
  },
  {
   "cell_type": "code",
   "execution_count": null,
   "id": "be581eee",
   "metadata": {},
   "outputs": [],
   "source": [
    "np.random.seed(100)\n",
    "np.random.rand(5)\n",
    "#np.random.randn(2,3)"
   ]
  },
  {
   "cell_type": "code",
   "execution_count": null,
   "id": "97ef3a31",
   "metadata": {},
   "outputs": [],
   "source": [
    "A=np.array([[1,2,3],[4,5,6]])\n",
    "print(A)\n",
    "B=A.reshape(3,2)\n",
    "print(B)\n",
    "#A@B"
   ]
  },
  {
   "cell_type": "code",
   "execution_count": null,
   "id": "0e12a8f6",
   "metadata": {},
   "outputs": [],
   "source": [
    "A.ndim\n",
    "#A.shape\n",
    "#A.size"
   ]
  },
  {
   "cell_type": "code",
   "execution_count": null,
   "id": "c3ce613d",
   "metadata": {},
   "outputs": [],
   "source": [
    "X=np.arange(30,41)\n",
    "#X\n",
    "#X[0:7] #دسترسی به 7 عنصر اول آرایه، عناصر با اندیسهای صفر تا 6\n",
    "#X[2:] # دسترسی به عناصر آرایه از اندیس 2 به بعد\n"
   ]
  },
  {
   "cell_type": "code",
   "execution_count": null,
   "id": "54c0e969",
   "metadata": {},
   "outputs": [],
   "source": [
    "Y=X.copy()*2 # کپی از آرایه و ضرب در 2 کردن مقادیر\n",
    "#Y\n",
    "Y[0:5]=100 # مقادیر 5 عنصر اول آرایه، اندیسهای 0 تا 4، برابر 1000 می شوند\n",
    "Y"
   ]
  },
  {
   "cell_type": "code",
   "execution_count": null,
   "id": "2a5a7278",
   "metadata": {},
   "outputs": [],
   "source": [
    "array_2d=np.array([[50,52,54],[56,58,60],[62,64,66],\n",
    "[68,70,72]])\n",
    "array_2d\n",
    "array_2d[2,1] # دسترسی به عنصر ردیف 3، با اندیس 2، و ستون 2، با اندیس 1"
   ]
  },
  {
   "cell_type": "code",
   "execution_count": null,
   "id": "54984821",
   "metadata": {},
   "outputs": [],
   "source": []
  }
 ],
 "metadata": {
  "kernelspec": {
   "display_name": "Python 3 (ipykernel)",
   "language": "python",
   "name": "python3"
  },
  "language_info": {
   "codemirror_mode": {
    "name": "ipython",
    "version": 3
   },
   "file_extension": ".py",
   "mimetype": "text/x-python",
   "name": "python",
   "nbconvert_exporter": "python",
   "pygments_lexer": "ipython3",
   "version": "3.10.9"
  }
 },
 "nbformat": 4,
 "nbformat_minor": 5
}
