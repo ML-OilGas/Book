{
 "cells": [
  {
   "cell_type": "code",
   "execution_count": null,
   "id": "550de495",
   "metadata": {},
   "outputs": [],
   "source": [
    "import pandas as pd\n",
    "dictionary={'Column_1':[10,20,30],'Columns_2':[40,50,60], 'Column_3':[70,80,90]}\n",
    "dictionary=pd.DataFrame(dictionary)\n",
    "dictionary\n"
   ]
  },
  {
   "cell_type": "code",
   "execution_count": null,
   "id": "73203630",
   "metadata": {},
   "outputs": [],
   "source": [
    "dictionary=pd.DataFrame({'C1':[10,20,30],'C2':[40,50,60], 'C3':[70,80,90]}, index=['Row1', 'Row2', 'Row3'])\n",
    "dictionary\n"
   ]
  },
  {
   "cell_type": "code",
   "execution_count": null,
   "id": "a85718b6",
   "metadata": {},
   "outputs": [],
   "source": [
    "a=[[1,2,3],[10,20,30],[100,200,300]]\n",
    "FirstDF=pd.DataFrame(a,index='Row1 Row2 Row3'.split(),columns='Col1 Col2 Col3'.split())\n",
    "FirstDF"
   ]
  },
  {
   "cell_type": "code",
   "execution_count": null,
   "id": "8e8deb42",
   "metadata": {},
   "outputs": [],
   "source": [
    "print('''----------------------------------\n",
    "----------head Function-----------''')\n",
    "print(FirstDF.head(2))\n",
    "print('''----------------------------------\n",
    "----------tail Function-----------''')\n",
    "print(FirstDF.tail(2))"
   ]
  },
  {
   "cell_type": "code",
   "execution_count": null,
   "id": "10b1b94a",
   "metadata": {},
   "outputs": [],
   "source": [
    "FirstDF.describe()"
   ]
  },
  {
   "cell_type": "code",
   "execution_count": null,
   "id": "98ded0c1",
   "metadata": {},
   "outputs": [],
   "source": [
    "FirstDF.cumsum()\n",
    "#FirstDF.cumsum(axis=1)"
   ]
  },
  {
   "cell_type": "code",
   "execution_count": null,
   "id": "abc996ef",
   "metadata": {},
   "outputs": [],
   "source": [
    "FirstDF['Col1']*2+FirstDF['Col2']"
   ]
  },
  {
   "cell_type": "code",
   "execution_count": null,
   "id": "67e85b6a",
   "metadata": {},
   "outputs": [],
   "source": [
    "FirstDF['NewCol']=FirstDF['Col1']*2+FirstDF['Col2']\n",
    "FirstDF"
   ]
  },
  {
   "cell_type": "code",
   "execution_count": null,
   "id": "0142fc9a",
   "metadata": {},
   "outputs": [],
   "source": [
    "FirstDF['NewCol']=FirstDF['Col1']*2+FirstDF['Col2']\n",
    "FirstDF['NewCol1']=FirstDF['NewCol']*2\n",
    "FirstDF\n",
    "FirstDF.drop(labels=['NewCol','NewCol1'],axis=1,inplace=True)\n",
    "FirstDF.drop(labels=['Row3'],axis=0)\n",
    "FirstDF \n"
   ]
  },
  {
   "cell_type": "code",
   "execution_count": null,
   "id": "97d9bb0a",
   "metadata": {},
   "outputs": [],
   "source": [
    "FirstDF.loc[['Row1','Row3'],:]\n",
    "FirstDF.iloc[[0,2],:]\n"
   ]
  },
  {
   "cell_type": "code",
   "execution_count": null,
   "id": "a3e2f69d",
   "metadata": {},
   "outputs": [],
   "source": [
    "FirstDF.loc[['Row1','Row2'], ['Col1','Col2']]\n",
    "FirstDF.iloc[0:2,0:2]\n"
   ]
  },
  {
   "cell_type": "code",
   "execution_count": null,
   "id": "9155d09e",
   "metadata": {},
   "outputs": [],
   "source": [
    "FirstDF.iloc[2,1]"
   ]
  },
  {
   "cell_type": "code",
   "execution_count": null,
   "id": "b6ab7cdc",
   "metadata": {},
   "outputs": [],
   "source": [
    "FirstDF>15 "
   ]
  },
  {
   "cell_type": "code",
   "execution_count": null,
   "id": "41593881",
   "metadata": {},
   "outputs": [],
   "source": [
    "FirstDF['Col2']>15 #فیلتر کردن یک ستون"
   ]
  },
  {
   "cell_type": "code",
   "execution_count": null,
   "id": "666e677d",
   "metadata": {},
   "outputs": [],
   "source": [
    "FirstDF[FirstDF['Col2']>15] #فیلتر کردن سطری"
   ]
  },
  {
   "cell_type": "code",
   "execution_count": null,
   "id": "e03ae6b3",
   "metadata": {},
   "outputs": [],
   "source": [
    "FirstDF[(FirstDF['Col1']>15) & (FirstDF['Col2']>15)]"
   ]
  },
  {
   "cell_type": "code",
   "execution_count": null,
   "id": "fe1aa1ec",
   "metadata": {},
   "outputs": [],
   "source": [
    "FirstDF[(FirstDF['Col1']>50) | (FirstDF['Col2']>=20)]"
   ]
  },
  {
   "cell_type": "code",
   "execution_count": null,
   "id": "53d11fb7",
   "metadata": {},
   "outputs": [],
   "source": [
    "FirstDF['NewCol1']=['A','A','B']; FirstDF['NewCol2']=['D','C','C']"
   ]
  },
  {
   "cell_type": "code",
   "execution_count": null,
   "id": "c25f9096",
   "metadata": {},
   "outputs": [],
   "source": [
    "FirstDF"
   ]
  },
  {
   "cell_type": "code",
   "execution_count": null,
   "id": "3721f2d6",
   "metadata": {},
   "outputs": [],
   "source": [
    "dfGroupBy=FirstDF.groupby('NewCol1')\n",
    "dfGroupBy.mean(numeric_only=True)\n",
    "# خروجی خط زیر مشابه دو خط فوق است\n",
    "#FirstDF.groupby('NewCol1').mean(numeric_only=True)"
   ]
  },
  {
   "cell_type": "code",
   "execution_count": null,
   "id": "7edca8d5",
   "metadata": {},
   "outputs": [],
   "source": [
    "FirstDF.groupby(['NewCol1','NewCol2']).mean(numeric_only=True)"
   ]
  },
  {
   "cell_type": "code",
   "execution_count": null,
   "id": "e86f5804",
   "metadata": {},
   "outputs": [],
   "source": [
    "A=pd.DataFrame([['A','B','C'],['D','E','F']],index=['Row1','Row2'])\n",
    "A"
   ]
  },
  {
   "cell_type": "code",
   "execution_count": null,
   "id": "fdb34ead",
   "metadata": {},
   "outputs": [],
   "source": [
    "pd.concat([FirstDF,A])\n",
    "#pd.concat([FirstDF,A],axis=1)"
   ]
  },
  {
   "cell_type": "code",
   "execution_count": null,
   "id": "51430cfd",
   "metadata": {},
   "outputs": [],
   "source": [
    "A1=pd.DataFrame({'A':['X1','X2','X3','X4'],\\\n",
    "\n",
    "                 'B':['Y1','Y2','Y3','Y4'], 'unique_ID':['Z1','Z2','Z3',\\\n",
    "\n",
    "                                                         'Z5'],})\n",
    "A1"
   ]
  },
  {
   "cell_type": "code",
   "execution_count": null,
   "id": "684f9eec",
   "metadata": {},
   "outputs": [],
   "source": [
    "A2=pd.DataFrame({'C':['L1','L2','L3','L4'],\n",
    "'D':['M1','M2','M3','M4'], 'unique_ID':['Z1','Z2','Z3','Z6']})\n",
    "A2"
   ]
  },
  {
   "cell_type": "code",
   "execution_count": null,
   "id": "e2752575",
   "metadata": {},
   "outputs": [],
   "source": [
    "pd.merge(A1,A2, on='unique_ID', how='inner') #unique_ID اشتراک دو دیتافریم براساس ستون "
   ]
  },
  {
   "cell_type": "code",
   "execution_count": null,
   "id": "33dfe6c7",
   "metadata": {},
   "outputs": [],
   "source": [
    "pd.merge(A1,A2, on='unique_ID', how='outer') #unique_ID اجتماع دو دیتافریم براساس ستون "
   ]
  },
  {
   "cell_type": "code",
   "execution_count": null,
   "id": "af414a7a",
   "metadata": {},
   "outputs": [],
   "source": [
    "B1=pd.DataFrame({'A':['L1','L2','L3','L4'],\n",
    "'B':['M1','M2','M3','M4']}, index=['Z1','Z2','Z3','Z4'])\n",
    "B1"
   ]
  },
  {
   "cell_type": "code",
   "execution_count": null,
   "id": "45eb8c6e",
   "metadata": {},
   "outputs": [],
   "source": [
    "B2=pd.DataFrame({'C':['L1','L2','L3','L4'],\n",
    "'D':['M1','M2','M3','M4']}, index=['Z1','Z2','Z3','Z6'])\n",
    "B2"
   ]
  },
  {
   "cell_type": "code",
   "execution_count": null,
   "id": "b7f75e6a",
   "metadata": {},
   "outputs": [],
   "source": [
    "B1.join(B2,how='inner') # اشتراک دو دیتافریم  "
   ]
  },
  {
   "cell_type": "code",
   "execution_count": null,
   "id": "ad2d4d97",
   "metadata": {},
   "outputs": [],
   "source": [
    "B1.join(B2,how='outer') # اجتماع دو دیتافریم  "
   ]
  },
  {
   "cell_type": "code",
   "execution_count": null,
   "id": "3eeccd74",
   "metadata": {},
   "outputs": [],
   "source": [
    "A3=pd.DataFrame({'C':[1,1,1,3],\n",
    "'D':[3,2,2,3], 'unique_ID':['Z1','Z2','Z2','Z6']})\n",
    "#A3['C'].unique() # C عناصر یکتای ستون \n",
    "#A3.nunique()\n",
    "#A3['C'].nunique() # C تعداد عناصر یکتای ستون\n",
    "#A3.value_counts() # ردیفهای یکتای دیتافریم به همراه تعداد دفعات تکرار هرکدام\n",
    "#A3['C'].value_counts() # C تعداد دفعات تکرار عناصر یکتای ستون \n",
    "#A3.columns\n",
    "A3.sort_values('D',ascending=True)"
   ]
  },
  {
   "cell_type": "code",
   "execution_count": null,
   "id": "53545e65",
   "metadata": {},
   "outputs": [],
   "source": [
    "def cubic (x):\n",
    "    return x**3\n",
    "A3['D'].apply(cubic)"
   ]
  },
  {
   "cell_type": "code",
   "execution_count": null,
   "id": "dc9575dc",
   "metadata": {},
   "outputs": [],
   "source": [
    "A3['D'].apply(lambda x:x**3)"
   ]
  },
  {
   "cell_type": "code",
   "execution_count": null,
   "id": "d4a785cf",
   "metadata": {},
   "outputs": [],
   "source": [
    "B3=B1.join(B2,how='outer')\n",
    "#B3\n",
    "#B3.dropna(how='any') # ردیفهای حاوی مقادیر گمشده را حذف می کند\n",
    "#B3.dropna(how='any',axis=1) # ستونهای حاوی مقادیر گمشده را حذف می کند\n",
    "#B3.fillna(value=0) # مقادیر گمشده را با صفر جایگزین می کند\n",
    "#B3.fillna(method='ffill')\n",
    "B3.fillna(method='bfill')\n"
   ]
  },
  {
   "cell_type": "code",
   "execution_count": null,
   "id": "e8c6a337",
   "metadata": {},
   "outputs": [],
   "source": [
    "B3.to_excel('B3.xlsx',sheet_name='B3sheet')"
   ]
  },
  {
   "cell_type": "code",
   "execution_count": null,
   "id": "f9f6a085",
   "metadata": {},
   "outputs": [],
   "source": [
    "pd.read_excel('B3.xlsx',sheet_name='B3sheet')"
   ]
  },
  {
   "cell_type": "code",
   "execution_count": null,
   "id": "596fc24a",
   "metadata": {},
   "outputs": [],
   "source": []
  }
 ],
 "metadata": {
  "kernelspec": {
   "display_name": "Python 3 (ipykernel)",
   "language": "python",
   "name": "python3"
  },
  "language_info": {
   "codemirror_mode": {
    "name": "ipython",
    "version": 3
   },
   "file_extension": ".py",
   "mimetype": "text/x-python",
   "name": "python",
   "nbconvert_exporter": "python",
   "pygments_lexer": "ipython3",
   "version": "3.10.9"
  }
 },
 "nbformat": 4,
 "nbformat_minor": 5
}
