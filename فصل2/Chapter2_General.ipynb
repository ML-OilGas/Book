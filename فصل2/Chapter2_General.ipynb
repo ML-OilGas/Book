{
 "cells": [
  {
   "cell_type": "code",
   "execution_count": null,
   "id": "382819a4",
   "metadata": {},
   "outputs": [],
   "source": [
    "test_var = 10; print (test_var)"
   ]
  },
  {
   "cell_type": "code",
   "execution_count": null,
   "id": "6a8c3c0c",
   "metadata": {
    "scrolled": false
   },
   "outputs": [],
   "source": [
    "x1 = 10*2\n",
    "x2 = 10  *  2\n",
    "x3 = 10    *    2\n",
    "print(x1) \n",
    "print(x2) \n",
    "print(x3)"
   ]
  },
  {
   "cell_type": "code",
   "execution_count": null,
   "id": "100ef6f6",
   "metadata": {},
   "outputs": [],
   "source": [
    "var_length = 3\n",
    "for i in range(var_length):\n",
    "# دستور پرینت زیر که تو رفتگی دارد جز حلقه است\n",
    "    print('Count', i)\n",
    "print ('Outside the loop') # این دستور جز حلقه نیست\n"
   ]
  },
  {
   "cell_type": "code",
   "execution_count": null,
   "id": "450ce739",
   "metadata": {},
   "outputs": [],
   "source": [
    "word = 'Example'\n",
    "sentence = \"This is an example of a sentence\" \n",
    "para = '''This is a paragraph \n",
    "This is a paragraph\n",
    "        This is a paragraph'''\n"
   ]
  },
  {
   "cell_type": "code",
   "execution_count": null,
   "id": "bd282ad2",
   "metadata": {},
   "outputs": [],
   "source": [
    "S = \"This is an example of a sentence\" \n",
    "S[0]\n",
    "S[0:6]"
   ]
  },
  {
   "cell_type": "code",
   "execution_count": null,
   "id": "815c0bdf",
   "metadata": {},
   "outputs": [],
   "source": [
    "var1 = 5 # این متغیر یک عدد صحیح است\n",
    "var2 = 'This is a String' # این متغیر یک رشته است \n",
    "var3 = [1,2,3] # این متغیر یک لیست است\n"
   ]
  },
  {
   "cell_type": "code",
   "execution_count": null,
   "id": "d75ebd60",
   "metadata": {},
   "outputs": [],
   "source": [
    "4*2"
   ]
  },
  {
   "cell_type": "code",
   "execution_count": null,
   "id": "100cd9e5",
   "metadata": {},
   "outputs": [],
   "source": [
    "4*2+2"
   ]
  },
  {
   "cell_type": "code",
   "execution_count": null,
   "id": "b6cd3408",
   "metadata": {},
   "outputs": [],
   "source": [
    "2**2+1"
   ]
  },
  {
   "cell_type": "code",
   "execution_count": null,
   "id": "7b878a7e",
   "metadata": {},
   "outputs": [],
   "source": [
    "11%2"
   ]
  },
  {
   "cell_type": "code",
   "execution_count": null,
   "id": "63144ec8",
   "metadata": {},
   "outputs": [],
   "source": [
    "x=2; x+=2; print(x)"
   ]
  },
  {
   "cell_type": "code",
   "execution_count": null,
   "id": "d46b3d51",
   "metadata": {},
   "outputs": [],
   "source": [
    "x=2;y=4; x<=y"
   ]
  },
  {
   "cell_type": "code",
   "execution_count": null,
   "id": "5cd67985",
   "metadata": {},
   "outputs": [],
   "source": [
    "# lists\n",
    "list1 = [1,2,3] # لیست ساده با اعداد صحیح\n",
    "list2 = [1, None, 'Python', 3.14] # لیست با داده‌های ترکیبی \n",
    "list2[2:] # از اندیس شماره 2 تا انتهای لیست"
   ]
  },
  {
   "cell_type": "code",
   "execution_count": null,
   "id": "4557b506",
   "metadata": {},
   "outputs": [],
   "source": [
    "list1[0]='New'; list1"
   ]
  },
  {
   "cell_type": "code",
   "execution_count": null,
   "id": "b8e1028b",
   "metadata": {},
   "outputs": [],
   "source": [
    "list3 = [ [1,2,3], [10,20,30], ['Example', 'Nested', 'List']] \n",
    "list3[0][0:2]"
   ]
  },
  {
   "cell_type": "code",
   "execution_count": null,
   "id": "49acc730",
   "metadata": {},
   "outputs": [],
   "source": [
    "list3[2][0]"
   ]
  },
  {
   "cell_type": "code",
   "execution_count": null,
   "id": "cba351a8",
   "metadata": {},
   "outputs": [],
   "source": [
    "list4 = [1,2,3,4,2,2,2,1,5,8,0] # لیست با عناصر تکراری\n",
    "list4.count(2)    #    تعداد عناصر با مقدار 2 را برمی‌گرداند\n",
    "list4.append(100) #عدد 100 را به آخر لیست اضافه می‌کند\n",
    "list4.pop(2)      #عنصر با شماره اندیس 2 را حذف می‌کند\n",
    "\n",
    "list4"
   ]
  },
  {
   "cell_type": "code",
   "execution_count": null,
   "id": "3a171aae",
   "metadata": {},
   "outputs": [],
   "source": [
    "# tuples\n",
    "tuple1 = (1,2,3) # تاپل ساده با اعداد صحیح\n",
    "tuple2 = (1, None, 'Python', 3.14) # تاپل ترکیبی با انواع داده\n",
    "# تاپل تودرتو\n",
    "tuple3 = ([1,2,3], [10,20,30], ['Example', 'Nested', 'Tuple']) \n",
    "tuple4 = (1,2,3,3,2,2,2,1,5,8,0) # تاپل با عناصر تکراری\n",
    "print (tuple1[0])\n",
    "print (tuple2[-2]) \n",
    "print (tuple3[2][1]) \n",
    "print (tuple4.count(2)) \n",
    "print (tuple3[2][1:3]) \n",
    "print (tuple1 + tuple2)\n"
   ]
  },
  {
   "cell_type": "code",
   "execution_count": null,
   "id": "7acc9f2d",
   "metadata": {},
   "outputs": [],
   "source": [
    "#tuple1[0]=5 #بدلیل تغییرناپذیر بودن تاپل با خطا مواجه می شویم"
   ]
  },
  {
   "cell_type": "code",
   "execution_count": null,
   "id": "18514d02",
   "metadata": {},
   "outputs": [],
   "source": [
    "# Dictionary\n",
    "a={'ML_Models':['ANN','SVM','RF','GB','XGB'], 'Score':[90,85,95,90,100]}\n",
    "\n",
    "print(a)\n",
    "print(a['ML_Models'])             #دسترسی به عناصر دیکشنری با استفاده از کلید\n",
    "print(a['ML_Models'][0:3])\n",
    "\n",
    "d={'a':{'inner_a':[1,2,3]}}       # دیکشنری تو در تو\n",
    "print(d['a']['inner_a'][1])       #برای رسیدن به عنصر 2، ابتدا باید با 2 کلید به لیست مربوطه رسید سپس از اندیس استفاده کرد\n"
   ]
  },
  {
   "cell_type": "code",
   "execution_count": null,
   "id": "e9490792",
   "metadata": {},
   "outputs": [],
   "source": [
    "# Sets\n",
    "set1 = {1,2,3} # مجموعه ساده\n",
    "set2 = set((1,None,'Python',3.14)) # setمجموعه ترکیبی و ساخته شده با دستور \n",
    "# ساخت مجموعه‌ی زیر بدلیل استفاده از لیست‌ها که تغییرپذیر هستند خطا می‌دهد\n",
    "# set3 = {[1,2,3], [10,20,30], ['Example', 'Nested', 'List']} \n",
    "set4 = {1,2,3,3,2,2,2,1,5,8,0} # مجموعه‌ها عناصر تکراری نمی‌پذیرند بنابراین در خروجی، عناصر تکراری حذف شده‌اند\n",
    "print(set1) \n",
    "print(set2) \n",
    "# print(set3) \n",
    "print(set4)\n"
   ]
  },
  {
   "cell_type": "code",
   "execution_count": null,
   "id": "eac52c3f",
   "metadata": {},
   "outputs": [],
   "source": [
    "# example of if-elif-else\n",
    "perm = 0.001 # input in millidarcy\n",
    "if (perm > 0.0001):\n",
    "    print ('This is a millidarcy case, seems to be a sandstone or limestone rock!')\n",
    "elif (perm <= 0.0001 and perm>= 1E-6):\n",
    "    print ('This is a microdarcy case, seems to be tight sand rock!')\n",
    "else:\n",
    "    print ('This is a nanodarcy case, seems to be shale rock!')\n"
   ]
  },
  {
   "cell_type": "code",
   "execution_count": null,
   "id": "50e46935",
   "metadata": {},
   "outputs": [],
   "source": [
    "for i in range(0,3):\n",
    "    print('Iterator is = ', i) \n",
    "print('Loop Execution is complete!')\n"
   ]
  },
  {
   "cell_type": "code",
   "execution_count": null,
   "id": "1a07b93d",
   "metadata": {},
   "outputs": [],
   "source": [
    "Frac_Crews=['Frac_Crew_1', 'Frac_Crew_2', 'Frac_Crew_3', 'Frac_Crew_4']\n",
    "for x in Frac_Crews: \n",
    "   print(x) \n",
    "   if x=='Frac_Crew_2':\n",
    "      break\n"
   ]
  },
  {
   "cell_type": "code",
   "execution_count": null,
   "id": "9ccf3a68",
   "metadata": {},
   "outputs": [],
   "source": [
    "for x in Frac_Crews: \n",
    "    if x=='Frac_Crew_2':\n",
    "      continue\n",
    "    print(x) # باشد if توجه کنید که تورفتگی پرینت برابر\n"
   ]
  },
  {
   "cell_type": "code",
   "execution_count": null,
   "id": "2551f0a3",
   "metadata": {},
   "outputs": [],
   "source": [
    "i=1\n",
    "while (i<4):\n",
    "    print('i = ',i)\n",
    "    i+=1\n",
    "else:\n",
    "    print('The End...')"
   ]
  },
  {
   "cell_type": "code",
   "execution_count": null,
   "id": "e1a67e0e",
   "metadata": {},
   "outputs": [],
   "source": [
    "y=[5,6,7,8,9,10]\n",
    "[x**2+3*x+100 for x in y]"
   ]
  },
  {
   "cell_type": "code",
   "execution_count": null,
   "id": "0e6ea1c0",
   "metadata": {},
   "outputs": [],
   "source": [
    "def Function1(a):\n",
    "    b=a**2+5\n",
    "    d=b*10\n",
    "    return b,d\n",
    "Function1(2)\n"
   ]
  },
  {
   "cell_type": "code",
   "execution_count": null,
   "id": "9d47b30f",
   "metadata": {},
   "outputs": [],
   "source": [
    "c=Function1(3)\n",
    "print(c)"
   ]
  }
 ],
 "metadata": {
  "kernelspec": {
   "display_name": "Python 3 (ipykernel)",
   "language": "python",
   "name": "python3"
  },
  "language_info": {
   "codemirror_mode": {
    "name": "ipython",
    "version": 3
   },
   "file_extension": ".py",
   "mimetype": "text/x-python",
   "name": "python",
   "nbconvert_exporter": "python",
   "pygments_lexer": "ipython3",
   "version": "3.10.9"
  }
 },
 "nbformat": 4,
 "nbformat_minor": 5
}
