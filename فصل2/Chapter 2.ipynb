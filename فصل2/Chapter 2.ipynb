{
 "cells": [
  {
   "cell_type": "code",
   "execution_count": 225,
   "id": "382819a4",
   "metadata": {},
   "outputs": [
    {
     "name": "stdout",
     "output_type": "stream",
     "text": [
      "10\n"
     ]
    }
   ],
   "source": [
    "test_var = 10; print (test_var)"
   ]
  },
  {
   "cell_type": "code",
   "execution_count": 226,
   "id": "6a8c3c0c",
   "metadata": {
    "scrolled": false
   },
   "outputs": [
    {
     "name": "stdout",
     "output_type": "stream",
     "text": [
      "20\n",
      "20\n",
      "20\n"
     ]
    }
   ],
   "source": [
    "x1 = 10*2\n",
    "x2 = 10  *  2\n",
    "x3 = 10    *    2\n",
    "print(x1) \n",
    "print(x2) \n",
    "print(x3)"
   ]
  },
  {
   "cell_type": "code",
   "execution_count": 227,
   "id": "100ef6f6",
   "metadata": {},
   "outputs": [
    {
     "name": "stdout",
     "output_type": "stream",
     "text": [
      "Count 0\n",
      "Count 1\n",
      "Count 2\n",
      "Outside the loop\n"
     ]
    }
   ],
   "source": [
    "var_length = 3\n",
    "for i in range(var_length):\n",
    "# دستور پرینت زیر که تو رفتگی دارد جز حلقه است\n",
    "    print('Count', i)\n",
    "print ('Outside the loop') # این دستور جز حلقه نیست\n"
   ]
  },
  {
   "cell_type": "code",
   "execution_count": 228,
   "id": "450ce739",
   "metadata": {},
   "outputs": [],
   "source": [
    "word = 'Example'\n",
    "sentence = \"This is an example of a sentence\" \n",
    "para = '''This is a paragraph \n",
    "This is a paragraph\n",
    "        This is a paragraph'''\n"
   ]
  },
  {
   "cell_type": "code",
   "execution_count": 229,
   "id": "bd282ad2",
   "metadata": {},
   "outputs": [
    {
     "data": {
      "text/plain": [
       "'This i'"
      ]
     },
     "execution_count": 229,
     "metadata": {},
     "output_type": "execute_result"
    }
   ],
   "source": [
    "S = \"This is an example of a sentence\" \n",
    "S[0]\n",
    "S[0:6]"
   ]
  },
  {
   "cell_type": "code",
   "execution_count": 230,
   "id": "815c0bdf",
   "metadata": {},
   "outputs": [],
   "source": [
    "var1 = 5 # این متغیر یک عدد صحیح است\n",
    "var2 = 'This is a String' # این متغیر یک رشته است \n",
    "var3 = [1,2,3] # این متغیر یک لیست است\n"
   ]
  },
  {
   "cell_type": "code",
   "execution_count": 231,
   "id": "d75ebd60",
   "metadata": {},
   "outputs": [
    {
     "data": {
      "text/plain": [
       "8"
      ]
     },
     "execution_count": 231,
     "metadata": {},
     "output_type": "execute_result"
    }
   ],
   "source": [
    "4*2"
   ]
  },
  {
   "cell_type": "code",
   "execution_count": 232,
   "id": "100cd9e5",
   "metadata": {},
   "outputs": [
    {
     "data": {
      "text/plain": [
       "10"
      ]
     },
     "execution_count": 232,
     "metadata": {},
     "output_type": "execute_result"
    }
   ],
   "source": [
    "4*2+2"
   ]
  },
  {
   "cell_type": "code",
   "execution_count": 233,
   "id": "b6cd3408",
   "metadata": {},
   "outputs": [
    {
     "data": {
      "text/plain": [
       "5"
      ]
     },
     "execution_count": 233,
     "metadata": {},
     "output_type": "execute_result"
    }
   ],
   "source": [
    "2**2+1"
   ]
  },
  {
   "cell_type": "code",
   "execution_count": 234,
   "id": "7b878a7e",
   "metadata": {},
   "outputs": [
    {
     "data": {
      "text/plain": [
       "1"
      ]
     },
     "execution_count": 234,
     "metadata": {},
     "output_type": "execute_result"
    }
   ],
   "source": [
    "11%2"
   ]
  },
  {
   "cell_type": "code",
   "execution_count": 235,
   "id": "63144ec8",
   "metadata": {},
   "outputs": [
    {
     "name": "stdout",
     "output_type": "stream",
     "text": [
      "4\n"
     ]
    }
   ],
   "source": [
    "x=2; x+=2; print(x)"
   ]
  },
  {
   "cell_type": "code",
   "execution_count": 236,
   "id": "d46b3d51",
   "metadata": {},
   "outputs": [
    {
     "data": {
      "text/plain": [
       "True"
      ]
     },
     "execution_count": 236,
     "metadata": {},
     "output_type": "execute_result"
    }
   ],
   "source": [
    "x=2;y=4; x<=y"
   ]
  },
  {
   "cell_type": "code",
   "execution_count": 237,
   "id": "5cd67985",
   "metadata": {},
   "outputs": [
    {
     "data": {
      "text/plain": [
       "['Python', 3.14]"
      ]
     },
     "execution_count": 237,
     "metadata": {},
     "output_type": "execute_result"
    }
   ],
   "source": [
    "# lists\n",
    "list1 = [1,2,3] # لیست ساده با اعداد صحیح\n",
    "list2 = [1, None, 'Python', 3.14] # لیست با داده‌های ترکیبی \n",
    "list2[2:] # از اندیس شماره 2 تا انتهای لیست"
   ]
  },
  {
   "cell_type": "code",
   "execution_count": 238,
   "id": "4557b506",
   "metadata": {},
   "outputs": [
    {
     "data": {
      "text/plain": [
       "['New', 2, 3]"
      ]
     },
     "execution_count": 238,
     "metadata": {},
     "output_type": "execute_result"
    }
   ],
   "source": [
    "list1[0]='New'; list1"
   ]
  },
  {
   "cell_type": "code",
   "execution_count": 239,
   "id": "b8e1028b",
   "metadata": {},
   "outputs": [
    {
     "data": {
      "text/plain": [
       "[1, 2]"
      ]
     },
     "execution_count": 239,
     "metadata": {},
     "output_type": "execute_result"
    }
   ],
   "source": [
    "list3 = [ [1,2,3], [10,20,30], ['Example', 'Nested', 'List']] \n",
    "list3[0][0:2]"
   ]
  },
  {
   "cell_type": "code",
   "execution_count": 240,
   "id": "49acc730",
   "metadata": {},
   "outputs": [
    {
     "data": {
      "text/plain": [
       "'Example'"
      ]
     },
     "execution_count": 240,
     "metadata": {},
     "output_type": "execute_result"
    }
   ],
   "source": [
    "list3[2][0]"
   ]
  },
  {
   "cell_type": "code",
   "execution_count": 241,
   "id": "cba351a8",
   "metadata": {},
   "outputs": [
    {
     "data": {
      "text/plain": [
       "[1, 2, 4, 2, 2, 2, 1, 5, 8, 0, 100]"
      ]
     },
     "execution_count": 241,
     "metadata": {},
     "output_type": "execute_result"
    }
   ],
   "source": [
    "list4 = [1,2,3,4,2,2,2,1,5,8,0] # لیست با عناصر تکراری\n",
    "list4.count(2)    #    تعداد عناصر با مقدار 2 را برمی‌گرداند\n",
    "list4.append(100) #عدد 100 را به آخر لیست اضافه می‌کند\n",
    "list4.pop(2)      #عنصر با شماره اندیس 2 را حذف می‌کند\n",
    "\n",
    "list4"
   ]
  },
  {
   "cell_type": "code",
   "execution_count": 242,
   "id": "3a171aae",
   "metadata": {},
   "outputs": [
    {
     "name": "stdout",
     "output_type": "stream",
     "text": [
      "1\n",
      "Python\n",
      "Nested\n",
      "4\n",
      "['Nested', 'Tuple']\n",
      "(1, 2, 3, 1, None, 'Python', 3.14)\n"
     ]
    }
   ],
   "source": [
    "# tuples\n",
    "tuple1 = (1,2,3) # تاپل ساده با اعداد صحیح\n",
    "tuple2 = (1, None, 'Python', 3.14) # تاپل ترکیبی با انواع داده\n",
    "# تاپل تودرتو\n",
    "tuple3 = ([1,2,3], [10,20,30], ['Example', 'Nested', 'Tuple']) \n",
    "tuple4 = (1,2,3,3,2,2,2,1,5,8,0) # تاپل با عناصر تکراری\n",
    "print (tuple1[0])\n",
    "print (tuple2[-2]) \n",
    "print (tuple3[2][1]) \n",
    "print (tuple4.count(2)) \n",
    "print (tuple3[2][1:3]) \n",
    "print (tuple1 + tuple2)\n"
   ]
  },
  {
   "cell_type": "code",
   "execution_count": 243,
   "id": "7acc9f2d",
   "metadata": {},
   "outputs": [],
   "source": [
    "#tuple1[0]=5 #بدلیل تغییرناپذیر بودن تاپل با خطا مواجه می شویم"
   ]
  },
  {
   "cell_type": "code",
   "execution_count": 244,
   "id": "18514d02",
   "metadata": {},
   "outputs": [
    {
     "name": "stdout",
     "output_type": "stream",
     "text": [
      "{'ML_Models': ['ANN', 'SVM', 'RF', 'GB', 'XGB'], 'Score': [90, 85, 95, 90, 100]}\n",
      "['ANN', 'SVM', 'RF', 'GB', 'XGB']\n",
      "['ANN', 'SVM', 'RF']\n",
      "2\n"
     ]
    }
   ],
   "source": [
    "# Dictionary\n",
    "a={'ML_Models':['ANN','SVM','RF','GB','XGB'], 'Score':[90,85,95,90,100]}\n",
    "\n",
    "print(a)\n",
    "print(a['ML_Models'])             #دسترسی به عناصر دیکشنری با استفاده از کلید\n",
    "print(a['ML_Models'][0:3])\n",
    "\n",
    "d={'a':{'inner_a':[1,2,3]}}       # دیکشنری تو در تو\n",
    "print(d['a']['inner_a'][1])       #برای رسیدن به عنصر 2، ابتدا باید با 2 کلید به لیست مربوطه رسید سپس از اندیس استفاده کرد\n"
   ]
  },
  {
   "cell_type": "code",
   "execution_count": 245,
   "id": "e9490792",
   "metadata": {},
   "outputs": [
    {
     "name": "stdout",
     "output_type": "stream",
     "text": [
      "{1, 2, 3}\n",
      "{1, 3.14, None, 'Python'}\n",
      "{0, 1, 2, 3, 5, 8}\n"
     ]
    }
   ],
   "source": [
    "# Sets\n",
    "set1 = {1,2,3} # مجموعه ساده\n",
    "set2 = set((1,None,'Python',3.14)) # setمجموعه ترکیبی و ساخته شده با دستور \n",
    "# ساخت مجموعه‌ی زیر بدلیل استفاده از لیست‌ها که تغییرپذیر هستند خطا می‌دهد\n",
    "# set3 = {[1,2,3], [10,20,30], ['Example', 'Nested', 'List']} \n",
    "set4 = {1,2,3,3,2,2,2,1,5,8,0} # مجموعه‌ها عناصر تکراری نمی‌پذیرند بنابراین در خروجی، عناصر تکراری حذف شده‌اند\n",
    "print(set1) \n",
    "print(set2) \n",
    "# print(set3) \n",
    "print(set4)\n"
   ]
  },
  {
   "cell_type": "code",
   "execution_count": 246,
   "id": "eac52c3f",
   "metadata": {},
   "outputs": [
    {
     "name": "stdout",
     "output_type": "stream",
     "text": [
      "This is a millidarcy case, seems to be a sandstone or limestone rock!\n"
     ]
    }
   ],
   "source": [
    "# example of if-elif-else\n",
    "perm = 0.001 # input in millidarcy\n",
    "if (perm > 0.0001):\n",
    "    print ('This is a millidarcy case, seems to be a sandstone or limestone rock!')\n",
    "elif (perm <= 0.0001 and perm>= 1E-6):\n",
    "    print ('This is a microdarcy case, seems to be tight sand rock!')\n",
    "else:\n",
    "    print ('This is a nanodarcy case, seems to be shale rock!')\n"
   ]
  },
  {
   "cell_type": "code",
   "execution_count": 247,
   "id": "50e46935",
   "metadata": {},
   "outputs": [
    {
     "name": "stdout",
     "output_type": "stream",
     "text": [
      "Iterator is =  0\n",
      "Iterator is =  1\n",
      "Iterator is =  2\n",
      "Loop Execution is complete!\n"
     ]
    }
   ],
   "source": [
    "for i in range(0,3):\n",
    "    print('Iterator is = ', i) \n",
    "print('Loop Execution is complete!')\n"
   ]
  },
  {
   "cell_type": "code",
   "execution_count": 248,
   "id": "1a07b93d",
   "metadata": {},
   "outputs": [
    {
     "name": "stdout",
     "output_type": "stream",
     "text": [
      "Frac_Crew_1\n",
      "Frac_Crew_2\n"
     ]
    }
   ],
   "source": [
    "Frac_Crews=['Frac_Crew_1', 'Frac_Crew_2', 'Frac_Crew_3', 'Frac_Crew_4']\n",
    "for x in Frac_Crews: \n",
    "   print(x) \n",
    "   if x=='Frac_Crew_2':\n",
    "      break\n"
   ]
  },
  {
   "cell_type": "code",
   "execution_count": 249,
   "id": "9ccf3a68",
   "metadata": {},
   "outputs": [
    {
     "name": "stdout",
     "output_type": "stream",
     "text": [
      "Frac_Crew_1\n",
      "Frac_Crew_3\n",
      "Frac_Crew_4\n"
     ]
    }
   ],
   "source": [
    "for x in Frac_Crews: \n",
    "    if x=='Frac_Crew_2':\n",
    "      continue\n",
    "    print(x) # باشد if توجه کنید که تورفتگی پرینت برابر\n"
   ]
  },
  {
   "cell_type": "code",
   "execution_count": 250,
   "id": "2551f0a3",
   "metadata": {},
   "outputs": [
    {
     "name": "stdout",
     "output_type": "stream",
     "text": [
      "i =  1\n",
      "i =  2\n",
      "i =  3\n",
      "The End...\n"
     ]
    }
   ],
   "source": [
    "i=1\n",
    "while (i<4):\n",
    "    print('i = ',i)\n",
    "    i+=1\n",
    "else:\n",
    "    print('The End...')"
   ]
  },
  {
   "cell_type": "code",
   "execution_count": 251,
   "id": "e1a67e0e",
   "metadata": {},
   "outputs": [
    {
     "data": {
      "text/plain": [
       "[140, 154, 170, 188, 208, 230]"
      ]
     },
     "execution_count": 251,
     "metadata": {},
     "output_type": "execute_result"
    }
   ],
   "source": [
    "y=[5,6,7,8,9,10]\n",
    "[x**2+3*x+100 for x in y]"
   ]
  },
  {
   "cell_type": "code",
   "execution_count": 252,
   "id": "0e6ea1c0",
   "metadata": {},
   "outputs": [
    {
     "data": {
      "text/plain": [
       "(9, 90)"
      ]
     },
     "execution_count": 252,
     "metadata": {},
     "output_type": "execute_result"
    }
   ],
   "source": [
    "def Function1(a):\n",
    "    b=a**2+5\n",
    "    d=b*10\n",
    "    return b,d\n",
    "Function1(2)\n"
   ]
  },
  {
   "cell_type": "code",
   "execution_count": 253,
   "id": "9d47b30f",
   "metadata": {},
   "outputs": [
    {
     "name": "stdout",
     "output_type": "stream",
     "text": [
      "(14, 140)\n"
     ]
    }
   ],
   "source": [
    "c=Function1(3)\n",
    "print(c)"
   ]
  },
  {
   "cell_type": "code",
   "execution_count": 254,
   "id": "550de495",
   "metadata": {},
   "outputs": [
    {
     "data": {
      "text/html": [
       "<div>\n",
       "<style scoped>\n",
       "    .dataframe tbody tr th:only-of-type {\n",
       "        vertical-align: middle;\n",
       "    }\n",
       "\n",
       "    .dataframe tbody tr th {\n",
       "        vertical-align: top;\n",
       "    }\n",
       "\n",
       "    .dataframe thead th {\n",
       "        text-align: right;\n",
       "    }\n",
       "</style>\n",
       "<table border=\"1\" class=\"dataframe\">\n",
       "  <thead>\n",
       "    <tr style=\"text-align: right;\">\n",
       "      <th></th>\n",
       "      <th>Column_1</th>\n",
       "      <th>Columns_2</th>\n",
       "      <th>Column_3</th>\n",
       "    </tr>\n",
       "  </thead>\n",
       "  <tbody>\n",
       "    <tr>\n",
       "      <th>0</th>\n",
       "      <td>10</td>\n",
       "      <td>40</td>\n",
       "      <td>70</td>\n",
       "    </tr>\n",
       "    <tr>\n",
       "      <th>1</th>\n",
       "      <td>20</td>\n",
       "      <td>50</td>\n",
       "      <td>80</td>\n",
       "    </tr>\n",
       "    <tr>\n",
       "      <th>2</th>\n",
       "      <td>30</td>\n",
       "      <td>60</td>\n",
       "      <td>90</td>\n",
       "    </tr>\n",
       "  </tbody>\n",
       "</table>\n",
       "</div>"
      ],
      "text/plain": [
       "   Column_1  Columns_2  Column_3\n",
       "0        10         40        70\n",
       "1        20         50        80\n",
       "2        30         60        90"
      ]
     },
     "execution_count": 254,
     "metadata": {},
     "output_type": "execute_result"
    }
   ],
   "source": [
    "import pandas as pd\n",
    "dictionary={'Column_1':[10,20,30],'Columns_2':[40,50,60], 'Column_3':[70,80,90]}\n",
    "dictionary=pd.DataFrame(dictionary)\n",
    "dictionary\n"
   ]
  },
  {
   "cell_type": "code",
   "execution_count": 255,
   "id": "73203630",
   "metadata": {},
   "outputs": [
    {
     "data": {
      "text/html": [
       "<div>\n",
       "<style scoped>\n",
       "    .dataframe tbody tr th:only-of-type {\n",
       "        vertical-align: middle;\n",
       "    }\n",
       "\n",
       "    .dataframe tbody tr th {\n",
       "        vertical-align: top;\n",
       "    }\n",
       "\n",
       "    .dataframe thead th {\n",
       "        text-align: right;\n",
       "    }\n",
       "</style>\n",
       "<table border=\"1\" class=\"dataframe\">\n",
       "  <thead>\n",
       "    <tr style=\"text-align: right;\">\n",
       "      <th></th>\n",
       "      <th>C1</th>\n",
       "      <th>C2</th>\n",
       "      <th>C3</th>\n",
       "    </tr>\n",
       "  </thead>\n",
       "  <tbody>\n",
       "    <tr>\n",
       "      <th>Row1</th>\n",
       "      <td>10</td>\n",
       "      <td>40</td>\n",
       "      <td>70</td>\n",
       "    </tr>\n",
       "    <tr>\n",
       "      <th>Row2</th>\n",
       "      <td>20</td>\n",
       "      <td>50</td>\n",
       "      <td>80</td>\n",
       "    </tr>\n",
       "    <tr>\n",
       "      <th>Row3</th>\n",
       "      <td>30</td>\n",
       "      <td>60</td>\n",
       "      <td>90</td>\n",
       "    </tr>\n",
       "  </tbody>\n",
       "</table>\n",
       "</div>"
      ],
      "text/plain": [
       "      C1  C2  C3\n",
       "Row1  10  40  70\n",
       "Row2  20  50  80\n",
       "Row3  30  60  90"
      ]
     },
     "execution_count": 255,
     "metadata": {},
     "output_type": "execute_result"
    }
   ],
   "source": [
    "dictionary=pd.DataFrame({'C1':[10,20,30],'C2':[40,50,60], 'C3':[70,80,90]}, index=['Row1', 'Row2', 'Row3'])\n",
    "dictionary\n"
   ]
  },
  {
   "cell_type": "code",
   "execution_count": 256,
   "id": "a85718b6",
   "metadata": {},
   "outputs": [
    {
     "data": {
      "text/html": [
       "<div>\n",
       "<style scoped>\n",
       "    .dataframe tbody tr th:only-of-type {\n",
       "        vertical-align: middle;\n",
       "    }\n",
       "\n",
       "    .dataframe tbody tr th {\n",
       "        vertical-align: top;\n",
       "    }\n",
       "\n",
       "    .dataframe thead th {\n",
       "        text-align: right;\n",
       "    }\n",
       "</style>\n",
       "<table border=\"1\" class=\"dataframe\">\n",
       "  <thead>\n",
       "    <tr style=\"text-align: right;\">\n",
       "      <th></th>\n",
       "      <th>Col1</th>\n",
       "      <th>Col2</th>\n",
       "      <th>Col3</th>\n",
       "    </tr>\n",
       "  </thead>\n",
       "  <tbody>\n",
       "    <tr>\n",
       "      <th>Row1</th>\n",
       "      <td>1</td>\n",
       "      <td>2</td>\n",
       "      <td>3</td>\n",
       "    </tr>\n",
       "    <tr>\n",
       "      <th>Row2</th>\n",
       "      <td>10</td>\n",
       "      <td>20</td>\n",
       "      <td>30</td>\n",
       "    </tr>\n",
       "    <tr>\n",
       "      <th>Row3</th>\n",
       "      <td>100</td>\n",
       "      <td>200</td>\n",
       "      <td>300</td>\n",
       "    </tr>\n",
       "  </tbody>\n",
       "</table>\n",
       "</div>"
      ],
      "text/plain": [
       "      Col1  Col2  Col3\n",
       "Row1     1     2     3\n",
       "Row2    10    20    30\n",
       "Row3   100   200   300"
      ]
     },
     "execution_count": 256,
     "metadata": {},
     "output_type": "execute_result"
    }
   ],
   "source": [
    "a=[[1,2,3],[10,20,30],[100,200,300]]\n",
    "FirstDF=pd.DataFrame(a,index='Row1 Row2 Row3'.split(),columns='Col1 Col2 Col3'.split())\n",
    "FirstDF"
   ]
  },
  {
   "cell_type": "code",
   "execution_count": 257,
   "id": "8e8deb42",
   "metadata": {},
   "outputs": [
    {
     "name": "stdout",
     "output_type": "stream",
     "text": [
      "----------------------------------\n",
      "----------head Function-----------\n",
      "      Col1  Col2  Col3\n",
      "Row1     1     2     3\n",
      "Row2    10    20    30\n",
      "----------------------------------\n",
      "----------tail Function-----------\n",
      "      Col1  Col2  Col3\n",
      "Row2    10    20    30\n",
      "Row3   100   200   300\n"
     ]
    }
   ],
   "source": [
    "print('''----------------------------------\n",
    "----------head Function-----------''')\n",
    "print(FirstDF.head(2))\n",
    "print('''----------------------------------\n",
    "----------tail Function-----------''')\n",
    "print(FirstDF.tail(2))"
   ]
  },
  {
   "cell_type": "code",
   "execution_count": 258,
   "id": "10b1b94a",
   "metadata": {},
   "outputs": [
    {
     "data": {
      "text/html": [
       "<div>\n",
       "<style scoped>\n",
       "    .dataframe tbody tr th:only-of-type {\n",
       "        vertical-align: middle;\n",
       "    }\n",
       "\n",
       "    .dataframe tbody tr th {\n",
       "        vertical-align: top;\n",
       "    }\n",
       "\n",
       "    .dataframe thead th {\n",
       "        text-align: right;\n",
       "    }\n",
       "</style>\n",
       "<table border=\"1\" class=\"dataframe\">\n",
       "  <thead>\n",
       "    <tr style=\"text-align: right;\">\n",
       "      <th></th>\n",
       "      <th>Col1</th>\n",
       "      <th>Col2</th>\n",
       "      <th>Col3</th>\n",
       "    </tr>\n",
       "  </thead>\n",
       "  <tbody>\n",
       "    <tr>\n",
       "      <th>count</th>\n",
       "      <td>3.000000</td>\n",
       "      <td>3.000000</td>\n",
       "      <td>3.000000</td>\n",
       "    </tr>\n",
       "    <tr>\n",
       "      <th>mean</th>\n",
       "      <td>37.000000</td>\n",
       "      <td>74.000000</td>\n",
       "      <td>111.000000</td>\n",
       "    </tr>\n",
       "    <tr>\n",
       "      <th>std</th>\n",
       "      <td>54.744863</td>\n",
       "      <td>109.489726</td>\n",
       "      <td>164.234588</td>\n",
       "    </tr>\n",
       "    <tr>\n",
       "      <th>min</th>\n",
       "      <td>1.000000</td>\n",
       "      <td>2.000000</td>\n",
       "      <td>3.000000</td>\n",
       "    </tr>\n",
       "    <tr>\n",
       "      <th>25%</th>\n",
       "      <td>5.500000</td>\n",
       "      <td>11.000000</td>\n",
       "      <td>16.500000</td>\n",
       "    </tr>\n",
       "    <tr>\n",
       "      <th>50%</th>\n",
       "      <td>10.000000</td>\n",
       "      <td>20.000000</td>\n",
       "      <td>30.000000</td>\n",
       "    </tr>\n",
       "    <tr>\n",
       "      <th>75%</th>\n",
       "      <td>55.000000</td>\n",
       "      <td>110.000000</td>\n",
       "      <td>165.000000</td>\n",
       "    </tr>\n",
       "    <tr>\n",
       "      <th>max</th>\n",
       "      <td>100.000000</td>\n",
       "      <td>200.000000</td>\n",
       "      <td>300.000000</td>\n",
       "    </tr>\n",
       "  </tbody>\n",
       "</table>\n",
       "</div>"
      ],
      "text/plain": [
       "             Col1        Col2        Col3\n",
       "count    3.000000    3.000000    3.000000\n",
       "mean    37.000000   74.000000  111.000000\n",
       "std     54.744863  109.489726  164.234588\n",
       "min      1.000000    2.000000    3.000000\n",
       "25%      5.500000   11.000000   16.500000\n",
       "50%     10.000000   20.000000   30.000000\n",
       "75%     55.000000  110.000000  165.000000\n",
       "max    100.000000  200.000000  300.000000"
      ]
     },
     "execution_count": 258,
     "metadata": {},
     "output_type": "execute_result"
    }
   ],
   "source": [
    "FirstDF.describe()"
   ]
  },
  {
   "cell_type": "code",
   "execution_count": 259,
   "id": "98ded0c1",
   "metadata": {},
   "outputs": [
    {
     "data": {
      "text/html": [
       "<div>\n",
       "<style scoped>\n",
       "    .dataframe tbody tr th:only-of-type {\n",
       "        vertical-align: middle;\n",
       "    }\n",
       "\n",
       "    .dataframe tbody tr th {\n",
       "        vertical-align: top;\n",
       "    }\n",
       "\n",
       "    .dataframe thead th {\n",
       "        text-align: right;\n",
       "    }\n",
       "</style>\n",
       "<table border=\"1\" class=\"dataframe\">\n",
       "  <thead>\n",
       "    <tr style=\"text-align: right;\">\n",
       "      <th></th>\n",
       "      <th>Col1</th>\n",
       "      <th>Col2</th>\n",
       "      <th>Col3</th>\n",
       "    </tr>\n",
       "  </thead>\n",
       "  <tbody>\n",
       "    <tr>\n",
       "      <th>Row1</th>\n",
       "      <td>1</td>\n",
       "      <td>2</td>\n",
       "      <td>3</td>\n",
       "    </tr>\n",
       "    <tr>\n",
       "      <th>Row2</th>\n",
       "      <td>11</td>\n",
       "      <td>22</td>\n",
       "      <td>33</td>\n",
       "    </tr>\n",
       "    <tr>\n",
       "      <th>Row3</th>\n",
       "      <td>111</td>\n",
       "      <td>222</td>\n",
       "      <td>333</td>\n",
       "    </tr>\n",
       "  </tbody>\n",
       "</table>\n",
       "</div>"
      ],
      "text/plain": [
       "      Col1  Col2  Col3\n",
       "Row1     1     2     3\n",
       "Row2    11    22    33\n",
       "Row3   111   222   333"
      ]
     },
     "execution_count": 259,
     "metadata": {},
     "output_type": "execute_result"
    }
   ],
   "source": [
    "FirstDF.cumsum()\n",
    "#FirstDF.cumsum(axis=1)"
   ]
  },
  {
   "cell_type": "code",
   "execution_count": 260,
   "id": "abc996ef",
   "metadata": {},
   "outputs": [
    {
     "data": {
      "text/plain": [
       "Row1      4\n",
       "Row2     40\n",
       "Row3    400\n",
       "dtype: int64"
      ]
     },
     "execution_count": 260,
     "metadata": {},
     "output_type": "execute_result"
    }
   ],
   "source": [
    "FirstDF['Col1']*2+FirstDF['Col2']"
   ]
  },
  {
   "cell_type": "code",
   "execution_count": 261,
   "id": "67e85b6a",
   "metadata": {},
   "outputs": [
    {
     "data": {
      "text/html": [
       "<div>\n",
       "<style scoped>\n",
       "    .dataframe tbody tr th:only-of-type {\n",
       "        vertical-align: middle;\n",
       "    }\n",
       "\n",
       "    .dataframe tbody tr th {\n",
       "        vertical-align: top;\n",
       "    }\n",
       "\n",
       "    .dataframe thead th {\n",
       "        text-align: right;\n",
       "    }\n",
       "</style>\n",
       "<table border=\"1\" class=\"dataframe\">\n",
       "  <thead>\n",
       "    <tr style=\"text-align: right;\">\n",
       "      <th></th>\n",
       "      <th>Col1</th>\n",
       "      <th>Col2</th>\n",
       "      <th>Col3</th>\n",
       "      <th>NewCol</th>\n",
       "    </tr>\n",
       "  </thead>\n",
       "  <tbody>\n",
       "    <tr>\n",
       "      <th>Row1</th>\n",
       "      <td>1</td>\n",
       "      <td>2</td>\n",
       "      <td>3</td>\n",
       "      <td>4</td>\n",
       "    </tr>\n",
       "    <tr>\n",
       "      <th>Row2</th>\n",
       "      <td>10</td>\n",
       "      <td>20</td>\n",
       "      <td>30</td>\n",
       "      <td>40</td>\n",
       "    </tr>\n",
       "    <tr>\n",
       "      <th>Row3</th>\n",
       "      <td>100</td>\n",
       "      <td>200</td>\n",
       "      <td>300</td>\n",
       "      <td>400</td>\n",
       "    </tr>\n",
       "  </tbody>\n",
       "</table>\n",
       "</div>"
      ],
      "text/plain": [
       "      Col1  Col2  Col3  NewCol\n",
       "Row1     1     2     3       4\n",
       "Row2    10    20    30      40\n",
       "Row3   100   200   300     400"
      ]
     },
     "execution_count": 261,
     "metadata": {},
     "output_type": "execute_result"
    }
   ],
   "source": [
    "FirstDF['NewCol']=FirstDF['Col1']*2+FirstDF['Col2']\n",
    "FirstDF"
   ]
  },
  {
   "cell_type": "code",
   "execution_count": 262,
   "id": "0142fc9a",
   "metadata": {},
   "outputs": [
    {
     "data": {
      "text/html": [
       "<div>\n",
       "<style scoped>\n",
       "    .dataframe tbody tr th:only-of-type {\n",
       "        vertical-align: middle;\n",
       "    }\n",
       "\n",
       "    .dataframe tbody tr th {\n",
       "        vertical-align: top;\n",
       "    }\n",
       "\n",
       "    .dataframe thead th {\n",
       "        text-align: right;\n",
       "    }\n",
       "</style>\n",
       "<table border=\"1\" class=\"dataframe\">\n",
       "  <thead>\n",
       "    <tr style=\"text-align: right;\">\n",
       "      <th></th>\n",
       "      <th>Col1</th>\n",
       "      <th>Col2</th>\n",
       "      <th>Col3</th>\n",
       "    </tr>\n",
       "  </thead>\n",
       "  <tbody>\n",
       "    <tr>\n",
       "      <th>Row1</th>\n",
       "      <td>1</td>\n",
       "      <td>2</td>\n",
       "      <td>3</td>\n",
       "    </tr>\n",
       "    <tr>\n",
       "      <th>Row2</th>\n",
       "      <td>10</td>\n",
       "      <td>20</td>\n",
       "      <td>30</td>\n",
       "    </tr>\n",
       "    <tr>\n",
       "      <th>Row3</th>\n",
       "      <td>100</td>\n",
       "      <td>200</td>\n",
       "      <td>300</td>\n",
       "    </tr>\n",
       "  </tbody>\n",
       "</table>\n",
       "</div>"
      ],
      "text/plain": [
       "      Col1  Col2  Col3\n",
       "Row1     1     2     3\n",
       "Row2    10    20    30\n",
       "Row3   100   200   300"
      ]
     },
     "execution_count": 262,
     "metadata": {},
     "output_type": "execute_result"
    }
   ],
   "source": [
    "FirstDF['NewCol']=FirstDF['Col1']*2+FirstDF['Col2']\n",
    "FirstDF['NewCol1']=FirstDF['NewCol']*2\n",
    "FirstDF\n",
    "FirstDF.drop(labels=['NewCol','NewCol1'],axis=1,inplace=True)\n",
    "FirstDF.drop(labels=['Row3'],axis=0)\n",
    "FirstDF \n"
   ]
  },
  {
   "cell_type": "code",
   "execution_count": 263,
   "id": "97d9bb0a",
   "metadata": {},
   "outputs": [
    {
     "data": {
      "text/html": [
       "<div>\n",
       "<style scoped>\n",
       "    .dataframe tbody tr th:only-of-type {\n",
       "        vertical-align: middle;\n",
       "    }\n",
       "\n",
       "    .dataframe tbody tr th {\n",
       "        vertical-align: top;\n",
       "    }\n",
       "\n",
       "    .dataframe thead th {\n",
       "        text-align: right;\n",
       "    }\n",
       "</style>\n",
       "<table border=\"1\" class=\"dataframe\">\n",
       "  <thead>\n",
       "    <tr style=\"text-align: right;\">\n",
       "      <th></th>\n",
       "      <th>Col1</th>\n",
       "      <th>Col2</th>\n",
       "      <th>Col3</th>\n",
       "    </tr>\n",
       "  </thead>\n",
       "  <tbody>\n",
       "    <tr>\n",
       "      <th>Row1</th>\n",
       "      <td>1</td>\n",
       "      <td>2</td>\n",
       "      <td>3</td>\n",
       "    </tr>\n",
       "    <tr>\n",
       "      <th>Row3</th>\n",
       "      <td>100</td>\n",
       "      <td>200</td>\n",
       "      <td>300</td>\n",
       "    </tr>\n",
       "  </tbody>\n",
       "</table>\n",
       "</div>"
      ],
      "text/plain": [
       "      Col1  Col2  Col3\n",
       "Row1     1     2     3\n",
       "Row3   100   200   300"
      ]
     },
     "execution_count": 263,
     "metadata": {},
     "output_type": "execute_result"
    }
   ],
   "source": [
    "FirstDF.loc[['Row1','Row3'],:]\n",
    "FirstDF.iloc[[0,2],:]\n"
   ]
  },
  {
   "cell_type": "code",
   "execution_count": 264,
   "id": "a3e2f69d",
   "metadata": {},
   "outputs": [
    {
     "data": {
      "text/html": [
       "<div>\n",
       "<style scoped>\n",
       "    .dataframe tbody tr th:only-of-type {\n",
       "        vertical-align: middle;\n",
       "    }\n",
       "\n",
       "    .dataframe tbody tr th {\n",
       "        vertical-align: top;\n",
       "    }\n",
       "\n",
       "    .dataframe thead th {\n",
       "        text-align: right;\n",
       "    }\n",
       "</style>\n",
       "<table border=\"1\" class=\"dataframe\">\n",
       "  <thead>\n",
       "    <tr style=\"text-align: right;\">\n",
       "      <th></th>\n",
       "      <th>Col1</th>\n",
       "      <th>Col2</th>\n",
       "    </tr>\n",
       "  </thead>\n",
       "  <tbody>\n",
       "    <tr>\n",
       "      <th>Row1</th>\n",
       "      <td>1</td>\n",
       "      <td>2</td>\n",
       "    </tr>\n",
       "    <tr>\n",
       "      <th>Row2</th>\n",
       "      <td>10</td>\n",
       "      <td>20</td>\n",
       "    </tr>\n",
       "  </tbody>\n",
       "</table>\n",
       "</div>"
      ],
      "text/plain": [
       "      Col1  Col2\n",
       "Row1     1     2\n",
       "Row2    10    20"
      ]
     },
     "execution_count": 264,
     "metadata": {},
     "output_type": "execute_result"
    }
   ],
   "source": [
    "FirstDF.loc[['Row1','Row2'], ['Col1','Col2']]\n",
    "FirstDF.iloc[0:2,0:2]\n"
   ]
  },
  {
   "cell_type": "code",
   "execution_count": 265,
   "id": "9155d09e",
   "metadata": {},
   "outputs": [
    {
     "data": {
      "text/plain": [
       "200"
      ]
     },
     "execution_count": 265,
     "metadata": {},
     "output_type": "execute_result"
    }
   ],
   "source": [
    "FirstDF.iloc[2,1]"
   ]
  },
  {
   "cell_type": "code",
   "execution_count": 266,
   "id": "b6ab7cdc",
   "metadata": {},
   "outputs": [
    {
     "data": {
      "text/html": [
       "<div>\n",
       "<style scoped>\n",
       "    .dataframe tbody tr th:only-of-type {\n",
       "        vertical-align: middle;\n",
       "    }\n",
       "\n",
       "    .dataframe tbody tr th {\n",
       "        vertical-align: top;\n",
       "    }\n",
       "\n",
       "    .dataframe thead th {\n",
       "        text-align: right;\n",
       "    }\n",
       "</style>\n",
       "<table border=\"1\" class=\"dataframe\">\n",
       "  <thead>\n",
       "    <tr style=\"text-align: right;\">\n",
       "      <th></th>\n",
       "      <th>Col1</th>\n",
       "      <th>Col2</th>\n",
       "      <th>Col3</th>\n",
       "    </tr>\n",
       "  </thead>\n",
       "  <tbody>\n",
       "    <tr>\n",
       "      <th>Row1</th>\n",
       "      <td>False</td>\n",
       "      <td>False</td>\n",
       "      <td>False</td>\n",
       "    </tr>\n",
       "    <tr>\n",
       "      <th>Row2</th>\n",
       "      <td>False</td>\n",
       "      <td>True</td>\n",
       "      <td>True</td>\n",
       "    </tr>\n",
       "    <tr>\n",
       "      <th>Row3</th>\n",
       "      <td>True</td>\n",
       "      <td>True</td>\n",
       "      <td>True</td>\n",
       "    </tr>\n",
       "  </tbody>\n",
       "</table>\n",
       "</div>"
      ],
      "text/plain": [
       "       Col1   Col2   Col3\n",
       "Row1  False  False  False\n",
       "Row2  False   True   True\n",
       "Row3   True   True   True"
      ]
     },
     "execution_count": 266,
     "metadata": {},
     "output_type": "execute_result"
    }
   ],
   "source": [
    "FirstDF>15 "
   ]
  },
  {
   "cell_type": "code",
   "execution_count": 267,
   "id": "41593881",
   "metadata": {},
   "outputs": [
    {
     "data": {
      "text/plain": [
       "Row1    False\n",
       "Row2     True\n",
       "Row3     True\n",
       "Name: Col2, dtype: bool"
      ]
     },
     "execution_count": 267,
     "metadata": {},
     "output_type": "execute_result"
    }
   ],
   "source": [
    "FirstDF['Col2']>15 #فیلتر کردن یک ستون"
   ]
  },
  {
   "cell_type": "code",
   "execution_count": 268,
   "id": "666e677d",
   "metadata": {},
   "outputs": [
    {
     "data": {
      "text/html": [
       "<div>\n",
       "<style scoped>\n",
       "    .dataframe tbody tr th:only-of-type {\n",
       "        vertical-align: middle;\n",
       "    }\n",
       "\n",
       "    .dataframe tbody tr th {\n",
       "        vertical-align: top;\n",
       "    }\n",
       "\n",
       "    .dataframe thead th {\n",
       "        text-align: right;\n",
       "    }\n",
       "</style>\n",
       "<table border=\"1\" class=\"dataframe\">\n",
       "  <thead>\n",
       "    <tr style=\"text-align: right;\">\n",
       "      <th></th>\n",
       "      <th>Col1</th>\n",
       "      <th>Col2</th>\n",
       "      <th>Col3</th>\n",
       "    </tr>\n",
       "  </thead>\n",
       "  <tbody>\n",
       "    <tr>\n",
       "      <th>Row2</th>\n",
       "      <td>10</td>\n",
       "      <td>20</td>\n",
       "      <td>30</td>\n",
       "    </tr>\n",
       "    <tr>\n",
       "      <th>Row3</th>\n",
       "      <td>100</td>\n",
       "      <td>200</td>\n",
       "      <td>300</td>\n",
       "    </tr>\n",
       "  </tbody>\n",
       "</table>\n",
       "</div>"
      ],
      "text/plain": [
       "      Col1  Col2  Col3\n",
       "Row2    10    20    30\n",
       "Row3   100   200   300"
      ]
     },
     "execution_count": 268,
     "metadata": {},
     "output_type": "execute_result"
    }
   ],
   "source": [
    "FirstDF[FirstDF['Col2']>15] #فیلتر کردن سطری"
   ]
  },
  {
   "cell_type": "code",
   "execution_count": 269,
   "id": "e03ae6b3",
   "metadata": {},
   "outputs": [
    {
     "data": {
      "text/html": [
       "<div>\n",
       "<style scoped>\n",
       "    .dataframe tbody tr th:only-of-type {\n",
       "        vertical-align: middle;\n",
       "    }\n",
       "\n",
       "    .dataframe tbody tr th {\n",
       "        vertical-align: top;\n",
       "    }\n",
       "\n",
       "    .dataframe thead th {\n",
       "        text-align: right;\n",
       "    }\n",
       "</style>\n",
       "<table border=\"1\" class=\"dataframe\">\n",
       "  <thead>\n",
       "    <tr style=\"text-align: right;\">\n",
       "      <th></th>\n",
       "      <th>Col1</th>\n",
       "      <th>Col2</th>\n",
       "      <th>Col3</th>\n",
       "    </tr>\n",
       "  </thead>\n",
       "  <tbody>\n",
       "    <tr>\n",
       "      <th>Row3</th>\n",
       "      <td>100</td>\n",
       "      <td>200</td>\n",
       "      <td>300</td>\n",
       "    </tr>\n",
       "  </tbody>\n",
       "</table>\n",
       "</div>"
      ],
      "text/plain": [
       "      Col1  Col2  Col3\n",
       "Row3   100   200   300"
      ]
     },
     "execution_count": 269,
     "metadata": {},
     "output_type": "execute_result"
    }
   ],
   "source": [
    "FirstDF[(FirstDF['Col1']>15) & (FirstDF['Col2']>15)]"
   ]
  },
  {
   "cell_type": "code",
   "execution_count": 270,
   "id": "fe1aa1ec",
   "metadata": {},
   "outputs": [
    {
     "data": {
      "text/html": [
       "<div>\n",
       "<style scoped>\n",
       "    .dataframe tbody tr th:only-of-type {\n",
       "        vertical-align: middle;\n",
       "    }\n",
       "\n",
       "    .dataframe tbody tr th {\n",
       "        vertical-align: top;\n",
       "    }\n",
       "\n",
       "    .dataframe thead th {\n",
       "        text-align: right;\n",
       "    }\n",
       "</style>\n",
       "<table border=\"1\" class=\"dataframe\">\n",
       "  <thead>\n",
       "    <tr style=\"text-align: right;\">\n",
       "      <th></th>\n",
       "      <th>Col1</th>\n",
       "      <th>Col2</th>\n",
       "      <th>Col3</th>\n",
       "    </tr>\n",
       "  </thead>\n",
       "  <tbody>\n",
       "    <tr>\n",
       "      <th>Row2</th>\n",
       "      <td>10</td>\n",
       "      <td>20</td>\n",
       "      <td>30</td>\n",
       "    </tr>\n",
       "    <tr>\n",
       "      <th>Row3</th>\n",
       "      <td>100</td>\n",
       "      <td>200</td>\n",
       "      <td>300</td>\n",
       "    </tr>\n",
       "  </tbody>\n",
       "</table>\n",
       "</div>"
      ],
      "text/plain": [
       "      Col1  Col2  Col3\n",
       "Row2    10    20    30\n",
       "Row3   100   200   300"
      ]
     },
     "execution_count": 270,
     "metadata": {},
     "output_type": "execute_result"
    }
   ],
   "source": [
    "FirstDF[(FirstDF['Col1']>50) | (FirstDF['Col2']>=20)]"
   ]
  },
  {
   "cell_type": "code",
   "execution_count": 271,
   "id": "53d11fb7",
   "metadata": {},
   "outputs": [],
   "source": [
    "FirstDF['NewCol1']=['A','A','B']; FirstDF['NewCol2']=['D','C','C']"
   ]
  },
  {
   "cell_type": "code",
   "execution_count": 272,
   "id": "c25f9096",
   "metadata": {},
   "outputs": [
    {
     "data": {
      "text/html": [
       "<div>\n",
       "<style scoped>\n",
       "    .dataframe tbody tr th:only-of-type {\n",
       "        vertical-align: middle;\n",
       "    }\n",
       "\n",
       "    .dataframe tbody tr th {\n",
       "        vertical-align: top;\n",
       "    }\n",
       "\n",
       "    .dataframe thead th {\n",
       "        text-align: right;\n",
       "    }\n",
       "</style>\n",
       "<table border=\"1\" class=\"dataframe\">\n",
       "  <thead>\n",
       "    <tr style=\"text-align: right;\">\n",
       "      <th></th>\n",
       "      <th>Col1</th>\n",
       "      <th>Col2</th>\n",
       "      <th>Col3</th>\n",
       "      <th>NewCol1</th>\n",
       "      <th>NewCol2</th>\n",
       "    </tr>\n",
       "  </thead>\n",
       "  <tbody>\n",
       "    <tr>\n",
       "      <th>Row1</th>\n",
       "      <td>1</td>\n",
       "      <td>2</td>\n",
       "      <td>3</td>\n",
       "      <td>A</td>\n",
       "      <td>D</td>\n",
       "    </tr>\n",
       "    <tr>\n",
       "      <th>Row2</th>\n",
       "      <td>10</td>\n",
       "      <td>20</td>\n",
       "      <td>30</td>\n",
       "      <td>A</td>\n",
       "      <td>C</td>\n",
       "    </tr>\n",
       "    <tr>\n",
       "      <th>Row3</th>\n",
       "      <td>100</td>\n",
       "      <td>200</td>\n",
       "      <td>300</td>\n",
       "      <td>B</td>\n",
       "      <td>C</td>\n",
       "    </tr>\n",
       "  </tbody>\n",
       "</table>\n",
       "</div>"
      ],
      "text/plain": [
       "      Col1  Col2  Col3 NewCol1 NewCol2\n",
       "Row1     1     2     3       A       D\n",
       "Row2    10    20    30       A       C\n",
       "Row3   100   200   300       B       C"
      ]
     },
     "execution_count": 272,
     "metadata": {},
     "output_type": "execute_result"
    }
   ],
   "source": [
    "FirstDF"
   ]
  },
  {
   "cell_type": "code",
   "execution_count": 273,
   "id": "3721f2d6",
   "metadata": {},
   "outputs": [
    {
     "data": {
      "text/html": [
       "<div>\n",
       "<style scoped>\n",
       "    .dataframe tbody tr th:only-of-type {\n",
       "        vertical-align: middle;\n",
       "    }\n",
       "\n",
       "    .dataframe tbody tr th {\n",
       "        vertical-align: top;\n",
       "    }\n",
       "\n",
       "    .dataframe thead th {\n",
       "        text-align: right;\n",
       "    }\n",
       "</style>\n",
       "<table border=\"1\" class=\"dataframe\">\n",
       "  <thead>\n",
       "    <tr style=\"text-align: right;\">\n",
       "      <th></th>\n",
       "      <th>Col1</th>\n",
       "      <th>Col2</th>\n",
       "      <th>Col3</th>\n",
       "    </tr>\n",
       "    <tr>\n",
       "      <th>NewCol1</th>\n",
       "      <th></th>\n",
       "      <th></th>\n",
       "      <th></th>\n",
       "    </tr>\n",
       "  </thead>\n",
       "  <tbody>\n",
       "    <tr>\n",
       "      <th>A</th>\n",
       "      <td>5.5</td>\n",
       "      <td>11.0</td>\n",
       "      <td>16.5</td>\n",
       "    </tr>\n",
       "    <tr>\n",
       "      <th>B</th>\n",
       "      <td>100.0</td>\n",
       "      <td>200.0</td>\n",
       "      <td>300.0</td>\n",
       "    </tr>\n",
       "  </tbody>\n",
       "</table>\n",
       "</div>"
      ],
      "text/plain": [
       "          Col1   Col2   Col3\n",
       "NewCol1                     \n",
       "A          5.5   11.0   16.5\n",
       "B        100.0  200.0  300.0"
      ]
     },
     "execution_count": 273,
     "metadata": {},
     "output_type": "execute_result"
    }
   ],
   "source": [
    "dfGroupBy=FirstDF.groupby('NewCol1')\n",
    "dfGroupBy.mean(numeric_only=True)\n",
    "# خروجی خط زیر مشابه دو خط فوق است\n",
    "#FirstDF.groupby('NewCol1').mean(numeric_only=True)"
   ]
  },
  {
   "cell_type": "code",
   "execution_count": 274,
   "id": "7edca8d5",
   "metadata": {},
   "outputs": [
    {
     "data": {
      "text/html": [
       "<div>\n",
       "<style scoped>\n",
       "    .dataframe tbody tr th:only-of-type {\n",
       "        vertical-align: middle;\n",
       "    }\n",
       "\n",
       "    .dataframe tbody tr th {\n",
       "        vertical-align: top;\n",
       "    }\n",
       "\n",
       "    .dataframe thead th {\n",
       "        text-align: right;\n",
       "    }\n",
       "</style>\n",
       "<table border=\"1\" class=\"dataframe\">\n",
       "  <thead>\n",
       "    <tr style=\"text-align: right;\">\n",
       "      <th></th>\n",
       "      <th></th>\n",
       "      <th>Col1</th>\n",
       "      <th>Col2</th>\n",
       "      <th>Col3</th>\n",
       "    </tr>\n",
       "    <tr>\n",
       "      <th>NewCol1</th>\n",
       "      <th>NewCol2</th>\n",
       "      <th></th>\n",
       "      <th></th>\n",
       "      <th></th>\n",
       "    </tr>\n",
       "  </thead>\n",
       "  <tbody>\n",
       "    <tr>\n",
       "      <th rowspan=\"2\" valign=\"top\">A</th>\n",
       "      <th>C</th>\n",
       "      <td>10.0</td>\n",
       "      <td>20.0</td>\n",
       "      <td>30.0</td>\n",
       "    </tr>\n",
       "    <tr>\n",
       "      <th>D</th>\n",
       "      <td>1.0</td>\n",
       "      <td>2.0</td>\n",
       "      <td>3.0</td>\n",
       "    </tr>\n",
       "    <tr>\n",
       "      <th>B</th>\n",
       "      <th>C</th>\n",
       "      <td>100.0</td>\n",
       "      <td>200.0</td>\n",
       "      <td>300.0</td>\n",
       "    </tr>\n",
       "  </tbody>\n",
       "</table>\n",
       "</div>"
      ],
      "text/plain": [
       "                  Col1   Col2   Col3\n",
       "NewCol1 NewCol2                     \n",
       "A       C         10.0   20.0   30.0\n",
       "        D          1.0    2.0    3.0\n",
       "B       C        100.0  200.0  300.0"
      ]
     },
     "execution_count": 274,
     "metadata": {},
     "output_type": "execute_result"
    }
   ],
   "source": [
    "FirstDF.groupby(['NewCol1','NewCol2']).mean(numeric_only=True)"
   ]
  },
  {
   "cell_type": "code",
   "execution_count": 275,
   "id": "e86f5804",
   "metadata": {},
   "outputs": [
    {
     "data": {
      "text/html": [
       "<div>\n",
       "<style scoped>\n",
       "    .dataframe tbody tr th:only-of-type {\n",
       "        vertical-align: middle;\n",
       "    }\n",
       "\n",
       "    .dataframe tbody tr th {\n",
       "        vertical-align: top;\n",
       "    }\n",
       "\n",
       "    .dataframe thead th {\n",
       "        text-align: right;\n",
       "    }\n",
       "</style>\n",
       "<table border=\"1\" class=\"dataframe\">\n",
       "  <thead>\n",
       "    <tr style=\"text-align: right;\">\n",
       "      <th></th>\n",
       "      <th>0</th>\n",
       "      <th>1</th>\n",
       "      <th>2</th>\n",
       "    </tr>\n",
       "  </thead>\n",
       "  <tbody>\n",
       "    <tr>\n",
       "      <th>Row1</th>\n",
       "      <td>A</td>\n",
       "      <td>B</td>\n",
       "      <td>C</td>\n",
       "    </tr>\n",
       "    <tr>\n",
       "      <th>Row2</th>\n",
       "      <td>D</td>\n",
       "      <td>E</td>\n",
       "      <td>F</td>\n",
       "    </tr>\n",
       "  </tbody>\n",
       "</table>\n",
       "</div>"
      ],
      "text/plain": [
       "      0  1  2\n",
       "Row1  A  B  C\n",
       "Row2  D  E  F"
      ]
     },
     "execution_count": 275,
     "metadata": {},
     "output_type": "execute_result"
    }
   ],
   "source": [
    "A=pd.DataFrame([['A','B','C'],['D','E','F']],index=['Row1','Row2'])\n",
    "A"
   ]
  },
  {
   "cell_type": "code",
   "execution_count": 276,
   "id": "fdb34ead",
   "metadata": {},
   "outputs": [
    {
     "data": {
      "text/html": [
       "<div>\n",
       "<style scoped>\n",
       "    .dataframe tbody tr th:only-of-type {\n",
       "        vertical-align: middle;\n",
       "    }\n",
       "\n",
       "    .dataframe tbody tr th {\n",
       "        vertical-align: top;\n",
       "    }\n",
       "\n",
       "    .dataframe thead th {\n",
       "        text-align: right;\n",
       "    }\n",
       "</style>\n",
       "<table border=\"1\" class=\"dataframe\">\n",
       "  <thead>\n",
       "    <tr style=\"text-align: right;\">\n",
       "      <th></th>\n",
       "      <th>Col1</th>\n",
       "      <th>Col2</th>\n",
       "      <th>Col3</th>\n",
       "      <th>NewCol1</th>\n",
       "      <th>NewCol2</th>\n",
       "      <th>0</th>\n",
       "      <th>1</th>\n",
       "      <th>2</th>\n",
       "    </tr>\n",
       "  </thead>\n",
       "  <tbody>\n",
       "    <tr>\n",
       "      <th>Row1</th>\n",
       "      <td>1.0</td>\n",
       "      <td>2.0</td>\n",
       "      <td>3.0</td>\n",
       "      <td>A</td>\n",
       "      <td>D</td>\n",
       "      <td>NaN</td>\n",
       "      <td>NaN</td>\n",
       "      <td>NaN</td>\n",
       "    </tr>\n",
       "    <tr>\n",
       "      <th>Row2</th>\n",
       "      <td>10.0</td>\n",
       "      <td>20.0</td>\n",
       "      <td>30.0</td>\n",
       "      <td>A</td>\n",
       "      <td>C</td>\n",
       "      <td>NaN</td>\n",
       "      <td>NaN</td>\n",
       "      <td>NaN</td>\n",
       "    </tr>\n",
       "    <tr>\n",
       "      <th>Row3</th>\n",
       "      <td>100.0</td>\n",
       "      <td>200.0</td>\n",
       "      <td>300.0</td>\n",
       "      <td>B</td>\n",
       "      <td>C</td>\n",
       "      <td>NaN</td>\n",
       "      <td>NaN</td>\n",
       "      <td>NaN</td>\n",
       "    </tr>\n",
       "    <tr>\n",
       "      <th>Row1</th>\n",
       "      <td>NaN</td>\n",
       "      <td>NaN</td>\n",
       "      <td>NaN</td>\n",
       "      <td>NaN</td>\n",
       "      <td>NaN</td>\n",
       "      <td>A</td>\n",
       "      <td>B</td>\n",
       "      <td>C</td>\n",
       "    </tr>\n",
       "    <tr>\n",
       "      <th>Row2</th>\n",
       "      <td>NaN</td>\n",
       "      <td>NaN</td>\n",
       "      <td>NaN</td>\n",
       "      <td>NaN</td>\n",
       "      <td>NaN</td>\n",
       "      <td>D</td>\n",
       "      <td>E</td>\n",
       "      <td>F</td>\n",
       "    </tr>\n",
       "  </tbody>\n",
       "</table>\n",
       "</div>"
      ],
      "text/plain": [
       "       Col1   Col2   Col3 NewCol1 NewCol2    0    1    2\n",
       "Row1    1.0    2.0    3.0       A       D  NaN  NaN  NaN\n",
       "Row2   10.0   20.0   30.0       A       C  NaN  NaN  NaN\n",
       "Row3  100.0  200.0  300.0       B       C  NaN  NaN  NaN\n",
       "Row1    NaN    NaN    NaN     NaN     NaN    A    B    C\n",
       "Row2    NaN    NaN    NaN     NaN     NaN    D    E    F"
      ]
     },
     "execution_count": 276,
     "metadata": {},
     "output_type": "execute_result"
    }
   ],
   "source": [
    "pd.concat([FirstDF,A])\n",
    "#pd.concat([FirstDF,A],axis=1)"
   ]
  },
  {
   "cell_type": "code",
   "execution_count": 277,
   "id": "51430cfd",
   "metadata": {},
   "outputs": [
    {
     "data": {
      "text/html": [
       "<div>\n",
       "<style scoped>\n",
       "    .dataframe tbody tr th:only-of-type {\n",
       "        vertical-align: middle;\n",
       "    }\n",
       "\n",
       "    .dataframe tbody tr th {\n",
       "        vertical-align: top;\n",
       "    }\n",
       "\n",
       "    .dataframe thead th {\n",
       "        text-align: right;\n",
       "    }\n",
       "</style>\n",
       "<table border=\"1\" class=\"dataframe\">\n",
       "  <thead>\n",
       "    <tr style=\"text-align: right;\">\n",
       "      <th></th>\n",
       "      <th>A</th>\n",
       "      <th>B</th>\n",
       "      <th>unique_ID</th>\n",
       "    </tr>\n",
       "  </thead>\n",
       "  <tbody>\n",
       "    <tr>\n",
       "      <th>0</th>\n",
       "      <td>X1</td>\n",
       "      <td>Y1</td>\n",
       "      <td>Z1</td>\n",
       "    </tr>\n",
       "    <tr>\n",
       "      <th>1</th>\n",
       "      <td>X2</td>\n",
       "      <td>Y2</td>\n",
       "      <td>Z2</td>\n",
       "    </tr>\n",
       "    <tr>\n",
       "      <th>2</th>\n",
       "      <td>X3</td>\n",
       "      <td>Y3</td>\n",
       "      <td>Z3</td>\n",
       "    </tr>\n",
       "    <tr>\n",
       "      <th>3</th>\n",
       "      <td>X4</td>\n",
       "      <td>Y4</td>\n",
       "      <td>Z5</td>\n",
       "    </tr>\n",
       "  </tbody>\n",
       "</table>\n",
       "</div>"
      ],
      "text/plain": [
       "    A   B unique_ID\n",
       "0  X1  Y1        Z1\n",
       "1  X2  Y2        Z2\n",
       "2  X3  Y3        Z3\n",
       "3  X4  Y4        Z5"
      ]
     },
     "execution_count": 277,
     "metadata": {},
     "output_type": "execute_result"
    }
   ],
   "source": [
    "A1=pd.DataFrame({'A':['X1','X2','X3','X4'],\\\n",
    "\n",
    "                 'B':['Y1','Y2','Y3','Y4'], 'unique_ID':['Z1','Z2','Z3',\\\n",
    "\n",
    "                                                         'Z5'],})\n",
    "A1"
   ]
  },
  {
   "cell_type": "code",
   "execution_count": 278,
   "id": "684f9eec",
   "metadata": {},
   "outputs": [
    {
     "data": {
      "text/html": [
       "<div>\n",
       "<style scoped>\n",
       "    .dataframe tbody tr th:only-of-type {\n",
       "        vertical-align: middle;\n",
       "    }\n",
       "\n",
       "    .dataframe tbody tr th {\n",
       "        vertical-align: top;\n",
       "    }\n",
       "\n",
       "    .dataframe thead th {\n",
       "        text-align: right;\n",
       "    }\n",
       "</style>\n",
       "<table border=\"1\" class=\"dataframe\">\n",
       "  <thead>\n",
       "    <tr style=\"text-align: right;\">\n",
       "      <th></th>\n",
       "      <th>C</th>\n",
       "      <th>D</th>\n",
       "      <th>unique_ID</th>\n",
       "    </tr>\n",
       "  </thead>\n",
       "  <tbody>\n",
       "    <tr>\n",
       "      <th>0</th>\n",
       "      <td>L1</td>\n",
       "      <td>M1</td>\n",
       "      <td>Z1</td>\n",
       "    </tr>\n",
       "    <tr>\n",
       "      <th>1</th>\n",
       "      <td>L2</td>\n",
       "      <td>M2</td>\n",
       "      <td>Z2</td>\n",
       "    </tr>\n",
       "    <tr>\n",
       "      <th>2</th>\n",
       "      <td>L3</td>\n",
       "      <td>M3</td>\n",
       "      <td>Z3</td>\n",
       "    </tr>\n",
       "    <tr>\n",
       "      <th>3</th>\n",
       "      <td>L4</td>\n",
       "      <td>M4</td>\n",
       "      <td>Z6</td>\n",
       "    </tr>\n",
       "  </tbody>\n",
       "</table>\n",
       "</div>"
      ],
      "text/plain": [
       "    C   D unique_ID\n",
       "0  L1  M1        Z1\n",
       "1  L2  M2        Z2\n",
       "2  L3  M3        Z3\n",
       "3  L4  M4        Z6"
      ]
     },
     "execution_count": 278,
     "metadata": {},
     "output_type": "execute_result"
    }
   ],
   "source": [
    "A2=pd.DataFrame({'C':['L1','L2','L3','L4'],\n",
    "'D':['M1','M2','M3','M4'], 'unique_ID':['Z1','Z2','Z3','Z6']})\n",
    "A2"
   ]
  },
  {
   "cell_type": "code",
   "execution_count": 279,
   "id": "e2752575",
   "metadata": {},
   "outputs": [
    {
     "data": {
      "text/html": [
       "<div>\n",
       "<style scoped>\n",
       "    .dataframe tbody tr th:only-of-type {\n",
       "        vertical-align: middle;\n",
       "    }\n",
       "\n",
       "    .dataframe tbody tr th {\n",
       "        vertical-align: top;\n",
       "    }\n",
       "\n",
       "    .dataframe thead th {\n",
       "        text-align: right;\n",
       "    }\n",
       "</style>\n",
       "<table border=\"1\" class=\"dataframe\">\n",
       "  <thead>\n",
       "    <tr style=\"text-align: right;\">\n",
       "      <th></th>\n",
       "      <th>A</th>\n",
       "      <th>B</th>\n",
       "      <th>unique_ID</th>\n",
       "      <th>C</th>\n",
       "      <th>D</th>\n",
       "    </tr>\n",
       "  </thead>\n",
       "  <tbody>\n",
       "    <tr>\n",
       "      <th>0</th>\n",
       "      <td>X1</td>\n",
       "      <td>Y1</td>\n",
       "      <td>Z1</td>\n",
       "      <td>L1</td>\n",
       "      <td>M1</td>\n",
       "    </tr>\n",
       "    <tr>\n",
       "      <th>1</th>\n",
       "      <td>X2</td>\n",
       "      <td>Y2</td>\n",
       "      <td>Z2</td>\n",
       "      <td>L2</td>\n",
       "      <td>M2</td>\n",
       "    </tr>\n",
       "    <tr>\n",
       "      <th>2</th>\n",
       "      <td>X3</td>\n",
       "      <td>Y3</td>\n",
       "      <td>Z3</td>\n",
       "      <td>L3</td>\n",
       "      <td>M3</td>\n",
       "    </tr>\n",
       "  </tbody>\n",
       "</table>\n",
       "</div>"
      ],
      "text/plain": [
       "    A   B unique_ID   C   D\n",
       "0  X1  Y1        Z1  L1  M1\n",
       "1  X2  Y2        Z2  L2  M2\n",
       "2  X3  Y3        Z3  L3  M3"
      ]
     },
     "execution_count": 279,
     "metadata": {},
     "output_type": "execute_result"
    }
   ],
   "source": [
    "pd.merge(A1,A2, on='unique_ID', how='inner') #unique_ID اشتراک دو دیتافریم براساس ستون "
   ]
  },
  {
   "cell_type": "code",
   "execution_count": 280,
   "id": "33dfe6c7",
   "metadata": {},
   "outputs": [
    {
     "data": {
      "text/html": [
       "<div>\n",
       "<style scoped>\n",
       "    .dataframe tbody tr th:only-of-type {\n",
       "        vertical-align: middle;\n",
       "    }\n",
       "\n",
       "    .dataframe tbody tr th {\n",
       "        vertical-align: top;\n",
       "    }\n",
       "\n",
       "    .dataframe thead th {\n",
       "        text-align: right;\n",
       "    }\n",
       "</style>\n",
       "<table border=\"1\" class=\"dataframe\">\n",
       "  <thead>\n",
       "    <tr style=\"text-align: right;\">\n",
       "      <th></th>\n",
       "      <th>A</th>\n",
       "      <th>B</th>\n",
       "      <th>unique_ID</th>\n",
       "      <th>C</th>\n",
       "      <th>D</th>\n",
       "    </tr>\n",
       "  </thead>\n",
       "  <tbody>\n",
       "    <tr>\n",
       "      <th>0</th>\n",
       "      <td>X1</td>\n",
       "      <td>Y1</td>\n",
       "      <td>Z1</td>\n",
       "      <td>L1</td>\n",
       "      <td>M1</td>\n",
       "    </tr>\n",
       "    <tr>\n",
       "      <th>1</th>\n",
       "      <td>X2</td>\n",
       "      <td>Y2</td>\n",
       "      <td>Z2</td>\n",
       "      <td>L2</td>\n",
       "      <td>M2</td>\n",
       "    </tr>\n",
       "    <tr>\n",
       "      <th>2</th>\n",
       "      <td>X3</td>\n",
       "      <td>Y3</td>\n",
       "      <td>Z3</td>\n",
       "      <td>L3</td>\n",
       "      <td>M3</td>\n",
       "    </tr>\n",
       "    <tr>\n",
       "      <th>3</th>\n",
       "      <td>X4</td>\n",
       "      <td>Y4</td>\n",
       "      <td>Z5</td>\n",
       "      <td>NaN</td>\n",
       "      <td>NaN</td>\n",
       "    </tr>\n",
       "    <tr>\n",
       "      <th>4</th>\n",
       "      <td>NaN</td>\n",
       "      <td>NaN</td>\n",
       "      <td>Z6</td>\n",
       "      <td>L4</td>\n",
       "      <td>M4</td>\n",
       "    </tr>\n",
       "  </tbody>\n",
       "</table>\n",
       "</div>"
      ],
      "text/plain": [
       "     A    B unique_ID    C    D\n",
       "0   X1   Y1        Z1   L1   M1\n",
       "1   X2   Y2        Z2   L2   M2\n",
       "2   X3   Y3        Z3   L3   M3\n",
       "3   X4   Y4        Z5  NaN  NaN\n",
       "4  NaN  NaN        Z6   L4   M4"
      ]
     },
     "execution_count": 280,
     "metadata": {},
     "output_type": "execute_result"
    }
   ],
   "source": [
    "pd.merge(A1,A2, on='unique_ID', how='outer') #unique_ID اجتماع دو دیتافریم براساس ستون "
   ]
  },
  {
   "cell_type": "code",
   "execution_count": 281,
   "id": "af414a7a",
   "metadata": {},
   "outputs": [
    {
     "data": {
      "text/html": [
       "<div>\n",
       "<style scoped>\n",
       "    .dataframe tbody tr th:only-of-type {\n",
       "        vertical-align: middle;\n",
       "    }\n",
       "\n",
       "    .dataframe tbody tr th {\n",
       "        vertical-align: top;\n",
       "    }\n",
       "\n",
       "    .dataframe thead th {\n",
       "        text-align: right;\n",
       "    }\n",
       "</style>\n",
       "<table border=\"1\" class=\"dataframe\">\n",
       "  <thead>\n",
       "    <tr style=\"text-align: right;\">\n",
       "      <th></th>\n",
       "      <th>A</th>\n",
       "      <th>B</th>\n",
       "    </tr>\n",
       "  </thead>\n",
       "  <tbody>\n",
       "    <tr>\n",
       "      <th>Z1</th>\n",
       "      <td>L1</td>\n",
       "      <td>M1</td>\n",
       "    </tr>\n",
       "    <tr>\n",
       "      <th>Z2</th>\n",
       "      <td>L2</td>\n",
       "      <td>M2</td>\n",
       "    </tr>\n",
       "    <tr>\n",
       "      <th>Z3</th>\n",
       "      <td>L3</td>\n",
       "      <td>M3</td>\n",
       "    </tr>\n",
       "    <tr>\n",
       "      <th>Z4</th>\n",
       "      <td>L4</td>\n",
       "      <td>M4</td>\n",
       "    </tr>\n",
       "  </tbody>\n",
       "</table>\n",
       "</div>"
      ],
      "text/plain": [
       "     A   B\n",
       "Z1  L1  M1\n",
       "Z2  L2  M2\n",
       "Z3  L3  M3\n",
       "Z4  L4  M4"
      ]
     },
     "execution_count": 281,
     "metadata": {},
     "output_type": "execute_result"
    }
   ],
   "source": [
    "B1=pd.DataFrame({'A':['L1','L2','L3','L4'],\n",
    "'B':['M1','M2','M3','M4']}, index=['Z1','Z2','Z3','Z4'])\n",
    "B1"
   ]
  },
  {
   "cell_type": "code",
   "execution_count": 282,
   "id": "45eb8c6e",
   "metadata": {},
   "outputs": [
    {
     "data": {
      "text/html": [
       "<div>\n",
       "<style scoped>\n",
       "    .dataframe tbody tr th:only-of-type {\n",
       "        vertical-align: middle;\n",
       "    }\n",
       "\n",
       "    .dataframe tbody tr th {\n",
       "        vertical-align: top;\n",
       "    }\n",
       "\n",
       "    .dataframe thead th {\n",
       "        text-align: right;\n",
       "    }\n",
       "</style>\n",
       "<table border=\"1\" class=\"dataframe\">\n",
       "  <thead>\n",
       "    <tr style=\"text-align: right;\">\n",
       "      <th></th>\n",
       "      <th>C</th>\n",
       "      <th>D</th>\n",
       "    </tr>\n",
       "  </thead>\n",
       "  <tbody>\n",
       "    <tr>\n",
       "      <th>Z1</th>\n",
       "      <td>L1</td>\n",
       "      <td>M1</td>\n",
       "    </tr>\n",
       "    <tr>\n",
       "      <th>Z2</th>\n",
       "      <td>L2</td>\n",
       "      <td>M2</td>\n",
       "    </tr>\n",
       "    <tr>\n",
       "      <th>Z3</th>\n",
       "      <td>L3</td>\n",
       "      <td>M3</td>\n",
       "    </tr>\n",
       "    <tr>\n",
       "      <th>Z6</th>\n",
       "      <td>L4</td>\n",
       "      <td>M4</td>\n",
       "    </tr>\n",
       "  </tbody>\n",
       "</table>\n",
       "</div>"
      ],
      "text/plain": [
       "     C   D\n",
       "Z1  L1  M1\n",
       "Z2  L2  M2\n",
       "Z3  L3  M3\n",
       "Z6  L4  M4"
      ]
     },
     "execution_count": 282,
     "metadata": {},
     "output_type": "execute_result"
    }
   ],
   "source": [
    "B2=pd.DataFrame({'C':['L1','L2','L3','L4'],\n",
    "'D':['M1','M2','M3','M4']}, index=['Z1','Z2','Z3','Z6'])\n",
    "B2"
   ]
  },
  {
   "cell_type": "code",
   "execution_count": 283,
   "id": "b7f75e6a",
   "metadata": {},
   "outputs": [
    {
     "data": {
      "text/html": [
       "<div>\n",
       "<style scoped>\n",
       "    .dataframe tbody tr th:only-of-type {\n",
       "        vertical-align: middle;\n",
       "    }\n",
       "\n",
       "    .dataframe tbody tr th {\n",
       "        vertical-align: top;\n",
       "    }\n",
       "\n",
       "    .dataframe thead th {\n",
       "        text-align: right;\n",
       "    }\n",
       "</style>\n",
       "<table border=\"1\" class=\"dataframe\">\n",
       "  <thead>\n",
       "    <tr style=\"text-align: right;\">\n",
       "      <th></th>\n",
       "      <th>A</th>\n",
       "      <th>B</th>\n",
       "      <th>C</th>\n",
       "      <th>D</th>\n",
       "    </tr>\n",
       "  </thead>\n",
       "  <tbody>\n",
       "    <tr>\n",
       "      <th>Z1</th>\n",
       "      <td>L1</td>\n",
       "      <td>M1</td>\n",
       "      <td>L1</td>\n",
       "      <td>M1</td>\n",
       "    </tr>\n",
       "    <tr>\n",
       "      <th>Z2</th>\n",
       "      <td>L2</td>\n",
       "      <td>M2</td>\n",
       "      <td>L2</td>\n",
       "      <td>M2</td>\n",
       "    </tr>\n",
       "    <tr>\n",
       "      <th>Z3</th>\n",
       "      <td>L3</td>\n",
       "      <td>M3</td>\n",
       "      <td>L3</td>\n",
       "      <td>M3</td>\n",
       "    </tr>\n",
       "  </tbody>\n",
       "</table>\n",
       "</div>"
      ],
      "text/plain": [
       "     A   B   C   D\n",
       "Z1  L1  M1  L1  M1\n",
       "Z2  L2  M2  L2  M2\n",
       "Z3  L3  M3  L3  M3"
      ]
     },
     "execution_count": 283,
     "metadata": {},
     "output_type": "execute_result"
    }
   ],
   "source": [
    "B1.join(B2,how='inner') # اشتراک دو دیتافریم  "
   ]
  },
  {
   "cell_type": "code",
   "execution_count": 284,
   "id": "ad2d4d97",
   "metadata": {},
   "outputs": [
    {
     "data": {
      "text/html": [
       "<div>\n",
       "<style scoped>\n",
       "    .dataframe tbody tr th:only-of-type {\n",
       "        vertical-align: middle;\n",
       "    }\n",
       "\n",
       "    .dataframe tbody tr th {\n",
       "        vertical-align: top;\n",
       "    }\n",
       "\n",
       "    .dataframe thead th {\n",
       "        text-align: right;\n",
       "    }\n",
       "</style>\n",
       "<table border=\"1\" class=\"dataframe\">\n",
       "  <thead>\n",
       "    <tr style=\"text-align: right;\">\n",
       "      <th></th>\n",
       "      <th>A</th>\n",
       "      <th>B</th>\n",
       "      <th>C</th>\n",
       "      <th>D</th>\n",
       "    </tr>\n",
       "  </thead>\n",
       "  <tbody>\n",
       "    <tr>\n",
       "      <th>Z1</th>\n",
       "      <td>L1</td>\n",
       "      <td>M1</td>\n",
       "      <td>L1</td>\n",
       "      <td>M1</td>\n",
       "    </tr>\n",
       "    <tr>\n",
       "      <th>Z2</th>\n",
       "      <td>L2</td>\n",
       "      <td>M2</td>\n",
       "      <td>L2</td>\n",
       "      <td>M2</td>\n",
       "    </tr>\n",
       "    <tr>\n",
       "      <th>Z3</th>\n",
       "      <td>L3</td>\n",
       "      <td>M3</td>\n",
       "      <td>L3</td>\n",
       "      <td>M3</td>\n",
       "    </tr>\n",
       "    <tr>\n",
       "      <th>Z4</th>\n",
       "      <td>L4</td>\n",
       "      <td>M4</td>\n",
       "      <td>NaN</td>\n",
       "      <td>NaN</td>\n",
       "    </tr>\n",
       "    <tr>\n",
       "      <th>Z6</th>\n",
       "      <td>NaN</td>\n",
       "      <td>NaN</td>\n",
       "      <td>L4</td>\n",
       "      <td>M4</td>\n",
       "    </tr>\n",
       "  </tbody>\n",
       "</table>\n",
       "</div>"
      ],
      "text/plain": [
       "      A    B    C    D\n",
       "Z1   L1   M1   L1   M1\n",
       "Z2   L2   M2   L2   M2\n",
       "Z3   L3   M3   L3   M3\n",
       "Z4   L4   M4  NaN  NaN\n",
       "Z6  NaN  NaN   L4   M4"
      ]
     },
     "execution_count": 284,
     "metadata": {},
     "output_type": "execute_result"
    }
   ],
   "source": [
    "B1.join(B2,how='outer') # اجتماع دو دیتافریم  "
   ]
  },
  {
   "cell_type": "code",
   "execution_count": 285,
   "id": "3eeccd74",
   "metadata": {},
   "outputs": [
    {
     "data": {
      "text/html": [
       "<div>\n",
       "<style scoped>\n",
       "    .dataframe tbody tr th:only-of-type {\n",
       "        vertical-align: middle;\n",
       "    }\n",
       "\n",
       "    .dataframe tbody tr th {\n",
       "        vertical-align: top;\n",
       "    }\n",
       "\n",
       "    .dataframe thead th {\n",
       "        text-align: right;\n",
       "    }\n",
       "</style>\n",
       "<table border=\"1\" class=\"dataframe\">\n",
       "  <thead>\n",
       "    <tr style=\"text-align: right;\">\n",
       "      <th></th>\n",
       "      <th>C</th>\n",
       "      <th>D</th>\n",
       "      <th>unique_ID</th>\n",
       "    </tr>\n",
       "  </thead>\n",
       "  <tbody>\n",
       "    <tr>\n",
       "      <th>1</th>\n",
       "      <td>1</td>\n",
       "      <td>2</td>\n",
       "      <td>Z2</td>\n",
       "    </tr>\n",
       "    <tr>\n",
       "      <th>2</th>\n",
       "      <td>1</td>\n",
       "      <td>2</td>\n",
       "      <td>Z2</td>\n",
       "    </tr>\n",
       "    <tr>\n",
       "      <th>0</th>\n",
       "      <td>1</td>\n",
       "      <td>3</td>\n",
       "      <td>Z1</td>\n",
       "    </tr>\n",
       "    <tr>\n",
       "      <th>3</th>\n",
       "      <td>3</td>\n",
       "      <td>3</td>\n",
       "      <td>Z6</td>\n",
       "    </tr>\n",
       "  </tbody>\n",
       "</table>\n",
       "</div>"
      ],
      "text/plain": [
       "   C  D unique_ID\n",
       "1  1  2        Z2\n",
       "2  1  2        Z2\n",
       "0  1  3        Z1\n",
       "3  3  3        Z6"
      ]
     },
     "execution_count": 285,
     "metadata": {},
     "output_type": "execute_result"
    }
   ],
   "source": [
    "A3=pd.DataFrame({'C':[1,1,1,3],\n",
    "'D':[3,2,2,3], 'unique_ID':['Z1','Z2','Z2','Z6']})\n",
    "#A3['C'].unique() # C عناصر یکتای ستون \n",
    "#A3.nunique()\n",
    "#A3['C'].nunique() # C تعداد عناصر یکتای ستون\n",
    "#A3.value_counts() # ردیفهای یکتای دیتافریم به همراه تعداد دفعات تکرار هرکدام\n",
    "#A3['C'].value_counts() # C تعداد دفعات تکرار عناصر یکتای ستون \n",
    "#A3.columns\n",
    "A3.sort_values('D',ascending=True)"
   ]
  },
  {
   "cell_type": "code",
   "execution_count": 286,
   "id": "53545e65",
   "metadata": {},
   "outputs": [
    {
     "data": {
      "text/plain": [
       "0    27\n",
       "1     8\n",
       "2     8\n",
       "3    27\n",
       "Name: D, dtype: int64"
      ]
     },
     "execution_count": 286,
     "metadata": {},
     "output_type": "execute_result"
    }
   ],
   "source": [
    "def cubic (x):\n",
    "    return x**3\n",
    "A3['D'].apply(cubic)"
   ]
  },
  {
   "cell_type": "code",
   "execution_count": 287,
   "id": "dc9575dc",
   "metadata": {},
   "outputs": [
    {
     "data": {
      "text/plain": [
       "0    27\n",
       "1     8\n",
       "2     8\n",
       "3    27\n",
       "Name: D, dtype: int64"
      ]
     },
     "execution_count": 287,
     "metadata": {},
     "output_type": "execute_result"
    }
   ],
   "source": [
    "A3['D'].apply(lambda x:x**3)"
   ]
  },
  {
   "cell_type": "code",
   "execution_count": 294,
   "id": "d4a785cf",
   "metadata": {},
   "outputs": [
    {
     "data": {
      "text/html": [
       "<div>\n",
       "<style scoped>\n",
       "    .dataframe tbody tr th:only-of-type {\n",
       "        vertical-align: middle;\n",
       "    }\n",
       "\n",
       "    .dataframe tbody tr th {\n",
       "        vertical-align: top;\n",
       "    }\n",
       "\n",
       "    .dataframe thead th {\n",
       "        text-align: right;\n",
       "    }\n",
       "</style>\n",
       "<table border=\"1\" class=\"dataframe\">\n",
       "  <thead>\n",
       "    <tr style=\"text-align: right;\">\n",
       "      <th></th>\n",
       "      <th>A</th>\n",
       "      <th>B</th>\n",
       "      <th>C</th>\n",
       "      <th>D</th>\n",
       "    </tr>\n",
       "  </thead>\n",
       "  <tbody>\n",
       "    <tr>\n",
       "      <th>Z1</th>\n",
       "      <td>L1</td>\n",
       "      <td>M1</td>\n",
       "      <td>L1</td>\n",
       "      <td>M1</td>\n",
       "    </tr>\n",
       "    <tr>\n",
       "      <th>Z2</th>\n",
       "      <td>L2</td>\n",
       "      <td>M2</td>\n",
       "      <td>L2</td>\n",
       "      <td>M2</td>\n",
       "    </tr>\n",
       "    <tr>\n",
       "      <th>Z3</th>\n",
       "      <td>L3</td>\n",
       "      <td>M3</td>\n",
       "      <td>L3</td>\n",
       "      <td>M3</td>\n",
       "    </tr>\n",
       "    <tr>\n",
       "      <th>Z4</th>\n",
       "      <td>L4</td>\n",
       "      <td>M4</td>\n",
       "      <td>L4</td>\n",
       "      <td>M4</td>\n",
       "    </tr>\n",
       "    <tr>\n",
       "      <th>Z6</th>\n",
       "      <td>NaN</td>\n",
       "      <td>NaN</td>\n",
       "      <td>L4</td>\n",
       "      <td>M4</td>\n",
       "    </tr>\n",
       "  </tbody>\n",
       "</table>\n",
       "</div>"
      ],
      "text/plain": [
       "      A    B   C   D\n",
       "Z1   L1   M1  L1  M1\n",
       "Z2   L2   M2  L2  M2\n",
       "Z3   L3   M3  L3  M3\n",
       "Z4   L4   M4  L4  M4\n",
       "Z6  NaN  NaN  L4  M4"
      ]
     },
     "execution_count": 294,
     "metadata": {},
     "output_type": "execute_result"
    }
   ],
   "source": [
    "B3=B1.join(B2,how='outer')\n",
    "#B3\n",
    "#B3.dropna(how='any') # ردیفهای حاوی مقادیر گمشده را حذف می کند\n",
    "#B3.dropna(how='any',axis=1) # ستونهای حاوی مقادیر گمشده را حذف می کند\n",
    "#B3.fillna(value=0) # مقادیر گمشده را با صفر جایگزین می کند\n",
    "#B3.fillna(method='ffill')\n",
    "B3.fillna(method='bfill')\n"
   ]
  },
  {
   "cell_type": "code",
   "execution_count": 296,
   "id": "e8c6a337",
   "metadata": {},
   "outputs": [],
   "source": [
    "B3.to_excel('B3.xlsx',sheet_name='B3sheet')"
   ]
  },
  {
   "cell_type": "code",
   "execution_count": 299,
   "id": "f9f6a085",
   "metadata": {},
   "outputs": [
    {
     "data": {
      "text/html": [
       "<div>\n",
       "<style scoped>\n",
       "    .dataframe tbody tr th:only-of-type {\n",
       "        vertical-align: middle;\n",
       "    }\n",
       "\n",
       "    .dataframe tbody tr th {\n",
       "        vertical-align: top;\n",
       "    }\n",
       "\n",
       "    .dataframe thead th {\n",
       "        text-align: right;\n",
       "    }\n",
       "</style>\n",
       "<table border=\"1\" class=\"dataframe\">\n",
       "  <thead>\n",
       "    <tr style=\"text-align: right;\">\n",
       "      <th></th>\n",
       "      <th>Unnamed: 0</th>\n",
       "      <th>A</th>\n",
       "      <th>B</th>\n",
       "      <th>C</th>\n",
       "      <th>D</th>\n",
       "    </tr>\n",
       "  </thead>\n",
       "  <tbody>\n",
       "    <tr>\n",
       "      <th>0</th>\n",
       "      <td>Z1</td>\n",
       "      <td>L1</td>\n",
       "      <td>M1</td>\n",
       "      <td>L1</td>\n",
       "      <td>M1</td>\n",
       "    </tr>\n",
       "    <tr>\n",
       "      <th>1</th>\n",
       "      <td>Z2</td>\n",
       "      <td>L2</td>\n",
       "      <td>M2</td>\n",
       "      <td>L2</td>\n",
       "      <td>M2</td>\n",
       "    </tr>\n",
       "    <tr>\n",
       "      <th>2</th>\n",
       "      <td>Z3</td>\n",
       "      <td>L3</td>\n",
       "      <td>M3</td>\n",
       "      <td>L3</td>\n",
       "      <td>M3</td>\n",
       "    </tr>\n",
       "    <tr>\n",
       "      <th>3</th>\n",
       "      <td>Z4</td>\n",
       "      <td>L4</td>\n",
       "      <td>M4</td>\n",
       "      <td>NaN</td>\n",
       "      <td>NaN</td>\n",
       "    </tr>\n",
       "    <tr>\n",
       "      <th>4</th>\n",
       "      <td>Z6</td>\n",
       "      <td>NaN</td>\n",
       "      <td>NaN</td>\n",
       "      <td>L4</td>\n",
       "      <td>M4</td>\n",
       "    </tr>\n",
       "  </tbody>\n",
       "</table>\n",
       "</div>"
      ],
      "text/plain": [
       "  Unnamed: 0    A    B    C    D\n",
       "0         Z1   L1   M1   L1   M1\n",
       "1         Z2   L2   M2   L2   M2\n",
       "2         Z3   L3   M3   L3   M3\n",
       "3         Z4   L4   M4  NaN  NaN\n",
       "4         Z6  NaN  NaN   L4   M4"
      ]
     },
     "execution_count": 299,
     "metadata": {},
     "output_type": "execute_result"
    }
   ],
   "source": [
    "pd.read_excel('B3.xlsx',sheet_name='B3sheet')"
   ]
  },
  {
   "cell_type": "code",
   "execution_count": null,
   "id": "596fc24a",
   "metadata": {},
   "outputs": [],
   "source": []
  }
 ],
 "metadata": {
  "kernelspec": {
   "display_name": "Python 3 (ipykernel)",
   "language": "python",
   "name": "python3"
  },
  "language_info": {
   "codemirror_mode": {
    "name": "ipython",
    "version": 3
   },
   "file_extension": ".py",
   "mimetype": "text/x-python",
   "name": "python",
   "nbconvert_exporter": "python",
   "pygments_lexer": "ipython3",
   "version": "3.10.9"
  }
 },
 "nbformat": 4,
 "nbformat_minor": 5
}
