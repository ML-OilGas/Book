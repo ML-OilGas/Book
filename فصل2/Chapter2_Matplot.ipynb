{
 "cells": [
  {
   "cell_type": "code",
   "execution_count": null,
   "id": "2af7dd07",
   "metadata": {},
   "outputs": [],
   "source": [
    "import pandas as pd\n",
    "import numpy as np\n",
    "import matplotlib.pyplot as plt\n",
    "import seaborn as sns\n",
    "import plotly.express as px\n",
    "%matplotlib inline"
   ]
  },
  {
   "cell_type": "markdown",
   "id": "9205ba67",
   "metadata": {},
   "source": [
    "# --------------------     ساخت دیتافریم    -------------------- "
   ]
  },
  {
   "cell_type": "code",
   "execution_count": null,
   "id": "578d82b7",
   "metadata": {},
   "outputs": [],
   "source": [
    "# تنظیم سید تصادفی برای تولید داده ی تکرارپذیر\n",
    "np.random.seed(42)\n",
    "\n",
    "# تعداد روزها\n",
    "n = 100\n",
    "\n",
    "# ساخت دیتافریم\n",
    "df = pd.DataFrame({\n",
    "    \"Date\": pd.date_range(start=\"2024-01-01\", periods=n, freq=\"D\"),\n",
    "    \"Daily_Production\": np.random.normal(loc=1200, scale=150, size=n).round(0),\n",
    "    \"Wellhead_Pressure\": np.random.normal(loc=2500, scale=300, size=n).round(0),\n",
    "    \"Temperature\": np.random.normal(loc=90, scale=5, size=n).round(1),\n",
    "    \"Operator_Company\": np.random.choice([\"Oil & Gas West\", \"NIOC\", \"Fars\"], size=n),\n",
    "    \"Well_Type\": np.random.choice([\"Production\", \"Injection\"], size=n, p=[0.7, 0.3])\n",
    "})\n",
    "\n",
    "# افزودن تولید تجمعی برای نمودارهای خطی یا توزیعی\n",
    "df[\"Cumulative_Production\"] = df[\"Daily_Production\"].cumsum()\n",
    "\n",
    "df.head()\n"
   ]
  },
  {
   "cell_type": "markdown",
   "id": "9385ab58",
   "metadata": {},
   "source": [
    "# --------------------     نمودارهای توزیعی    -------------------- "
   ]
  },
  {
   "cell_type": "code",
   "execution_count": null,
   "id": "8b27907a",
   "metadata": {},
   "outputs": [],
   "source": [
    "#  matplotترسیم نمودار هیستوگرام با استفاده از کتابخانه ی\n",
    "plt.figure(figsize=(8, 5))\n",
    "plt.hist(df[\"Daily_Production\"], bins=15, color=\"skyblue\", edgecolor=\"black\")\n",
    "plt.title(\"Distribution of Daily Production\")\n",
    "plt.xlabel(\"Production Volume (Barrels)\")\n",
    "plt.ylabel(\"Number of Days\")\n",
    "plt.grid(True, linestyle='--', alpha=0.5)\n",
    "plt.tight_layout()\n",
    "plt.show()\n"
   ]
  },
  {
   "cell_type": "code",
   "execution_count": null,
   "id": "8c770262",
   "metadata": {},
   "outputs": [],
   "source": [
    "#  seabornترسیم نمودار هیستوگرام با استفاده از کتابخانه ی\n",
    "\n",
    "\n",
    "plt.figure(figsize=(8, 5))\n",
    "sns.histplot(df[\"Daily_Production\"], bins=15, kde=False, color=\"lightcoral\")\n",
    "plt.title(\"Distribution of Daily Production (Seaborn)\")\n",
    "plt.xlabel(\"Production Volume (Barrels)\")\n",
    "plt.ylabel(\"Number of Days\")\n",
    "plt.grid(True, linestyle='--', alpha=0.5)\n",
    "plt.tight_layout()\n",
    "plt.show()"
   ]
  },
  {
   "cell_type": "code",
   "execution_count": null,
   "id": "ce4b3219",
   "metadata": {},
   "outputs": [],
   "source": [
    "# ------------------------     رسم نمودار جعبه ای     ------------------------  \n",
    "# ایجاد نمودار جعبه‌ای با Seaborn\n",
    "plt.figure(figsize=(8, 6))\n",
    "sns.boxplot(x='Well_Type', y='Daily_Production', data=df)\n",
    "\n",
    "# اضافه کردن عنوان و برچسب‌ها\n",
    "plt.title('Box plot of Daily Production by Well Type')\n",
    "plt.xlabel('Well Type')\n",
    "plt.ylabel('Daily Production')\n",
    "\n",
    "# نمایش نمودار\n",
    "plt.show()"
   ]
  },
  {
   "cell_type": "code",
   "execution_count": null,
   "id": "df0ac1cb",
   "metadata": {},
   "outputs": [],
   "source": [
    "# ------------------------   seaborn  رسم نمودار ویولن     ------------------------     \n",
    "\n",
    "# تنظیم اندازه تصویر\n",
    "plt.figure(figsize=(8, 5))\n",
    "\n",
    "# رسم نمودار ویولن\n",
    "sns.violinplot(data=df, x=\"Well_Type\", y=\"Daily_Production\", palette=\"Set2\")\n",
    "\n",
    "# افزودن عنوان و برچسب محورها\n",
    "plt.title(\"Daily Production Distribution by Well Type\", fontsize=14)\n",
    "plt.xlabel(\"Well Type\", fontsize=12)\n",
    "plt.ylabel(\"Daily Production (barrels)\", fontsize=12)\n",
    "\n",
    "# نمایش نمودار\n",
    "plt.tight_layout()\n",
    "plt.show()\n"
   ]
  },
  {
   "cell_type": "code",
   "execution_count": null,
   "id": "c4debcb7",
   "metadata": {},
   "outputs": [],
   "source": [
    "# ------------------------   plotly  رسم نمودار ویولن     ------------------------     \n",
    "\n",
    "\n",
    "fig = px.violin(df, x=\"Well_Type\", y=\"Daily_Production\", box=True, points=\"all\",\n",
    "                title=\"Violin Plot of Daily Production by Well Type\")\n",
    "fig.show()\n"
   ]
  },
  {
   "cell_type": "code",
   "execution_count": null,
   "id": "b026c628",
   "metadata": {},
   "outputs": [],
   "source": [
    "# ------------------------   seaborn  کد تمرین بخش نمودار ویولن     ------------------------     \n",
    "\n",
    "# Violin plot: Daily Production by Operating Company\n",
    "plt.figure(figsize=(9, 5))\n",
    "sns.violinplot(data=df, x=\"Operator_Company\", y=\"Daily_Production\")\n",
    "plt.title(\"Violin Plot of Daily Production by Operator\")\n",
    "plt.xlabel(\"Operating Company\")\n",
    "plt.ylabel(\"Daily Production\")\n",
    "plt.grid(True)\n",
    "plt.show()\n"
   ]
  },
  {
   "cell_type": "code",
   "execution_count": null,
   "id": "9816fee2",
   "metadata": {},
   "outputs": [],
   "source": [
    "# ------------------------    swarm رسم نمودار      ------------------------     \n",
    "\n",
    "# Swarm plot: Daily Production by Well Type\n",
    "plt.figure(figsize=(8, 5))\n",
    "sns.swarmplot(data=df, x=\"Well_Type\", y=\"Daily_Production\")\n",
    "plt.title(\"Swarm Plot of Daily Production by Well Type\")\n",
    "plt.xlabel(\"Well Type\")\n",
    "plt.ylabel(\"Daily Production\")\n",
    "plt.grid(True)\n",
    "plt.show()\n"
   ]
  },
  {
   "cell_type": "code",
   "execution_count": null,
   "id": "74754889",
   "metadata": {
    "scrolled": true
   },
   "outputs": [],
   "source": [
    "# ------------------------    KDE رسم نمودار      ------------------------     \n",
    "\n",
    "plt.figure(figsize=(8, 5))\n",
    "sns.kdeplot(data=df, x=\"Daily_Production\", fill=True, color=\"steelblue\")\n",
    "plt.title(\"Kernel Density Estimation of Daily Production\")\n",
    "plt.xlabel(\"Daily Production (barrels)\")\n",
    "plt.ylabel(\"Density\")\n",
    "plt.tight_layout()\n",
    "plt.show()\n"
   ]
  },
  {
   "cell_type": "code",
   "execution_count": null,
   "id": "f8f560a7",
   "metadata": {},
   "outputs": [],
   "source": [
    "# ------------------------    KDE تمرین رسم نمودار      ------------------------     \n",
    "\n",
    "# نمودار KDE برای Wellhead_Pressure\n",
    "plt.figure(figsize=(8, 5))\n",
    "sns.kdeplot(data=df, x=\"Wellhead_Pressure\", fill=True, color=\"mediumseagreen\")\n",
    "plt.title(\"KDE of Wellhead Pressure\")\n",
    "plt.xlabel(\"Wellhead Pressure (psi)\")\n",
    "plt.ylabel(\"Density\")\n",
    "plt.tight_layout()\n",
    "plt.show()\n",
    "\n",
    "# نمودار KDE برای Temperature به تفکیک نوع چاه\n",
    "plt.figure(figsize=(8, 5))\n",
    "sns.kdeplot(data=df, x=\"Temperature\", hue=\"Well_Type\", fill=True)\n",
    "plt.title(\"KDE of Temperature by Well Type\")\n",
    "plt.xlabel(\"Temperature (°F)\")\n",
    "plt.ylabel(\"Density\")\n",
    "plt.tight_layout()\n",
    "plt.show()\n"
   ]
  },
  {
   "cell_type": "markdown",
   "id": "d9113957",
   "metadata": {},
   "source": [
    "# --------------------     نمودارهای دسته ای    -------------------- "
   ]
  },
  {
   "cell_type": "code",
   "execution_count": null,
   "id": "bdfc4b0b",
   "metadata": {},
   "outputs": [],
   "source": [
    "# ------------------------    Count  رسم نمودار      ------------------------     \n",
    "\n",
    "plt.figure(figsize=(6, 4))\n",
    "sns.countplot(data=df, x=\"Well_Type\", palette=\"Set2\")\n",
    "plt.title(\"Well Count by Type\")\n",
    "plt.xlabel(\"Well Type\")\n",
    "plt.ylabel(\"Count\")\n",
    "plt.tight_layout()\n",
    "plt.show()\n"
   ]
  },
  {
   "cell_type": "code",
   "execution_count": null,
   "id": "f25bce02",
   "metadata": {},
   "outputs": [],
   "source": [
    "# ------------------------    Bar  رسم نمودار      ------------------------  \n",
    "\n",
    "plt.figure(figsize=(6, 4))\n",
    "sns.barplot(data=df, x=\"Well_Type\", y=\"Wellhead_Pressure\", estimator=np.mean, palette=\"Set3\")\n",
    "plt.title(\"Average Wellhead Pressure by Well Type\")\n",
    "plt.xlabel(\"Well Type\")\n",
    "plt.ylabel(\"Average Pressure\")\n",
    "plt.tight_layout()\n",
    "plt.show()\n"
   ]
  },
  {
   "cell_type": "code",
   "execution_count": null,
   "id": "ad0653e4",
   "metadata": {},
   "outputs": [],
   "source": [
    "# ------------------------     تمرین نمودارهای دسته ای      ------------------------   \n",
    "\n",
    "# تنظیم اندازه پیش‌فرض نمودارها\n",
    "plt.figure(figsize=(10, 6))\n",
    "\n",
    "# ۱. تعداد چاه‌ها به تفکیک شرکت بهره‌بردار (نمودار شمارشی)\n",
    "plt.subplot(3, 1, 1)\n",
    "sns.countplot(data=df, x=\"Operator_Company\")\n",
    "plt.title(\"Number of Wells by Operator\")\n",
    "plt.xlabel(\"Operator_Company\")\n",
    "plt.ylabel(\"Count\")\n",
    "\n",
    "# ۲. میانگین دما به تفکیک نوع چاه (میانگین یک متغیر عددی بر اساس یک متغیر دسته‌ای)\n",
    "plt.subplot(3, 1, 2)\n",
    "sns.barplot(data=df, x=\"Well_Type\", y=\"Temperature\", estimator=\"mean\")\n",
    "plt.title(\"Average Temperature by Well Type\")\n",
    "plt.xlabel(\"Well Type\")\n",
    "plt.ylabel(\"Average Temperature (°F)\")\n",
    "\n",
    "# ۳. مجموع تولید روزانه به تفکیک شرکت بهره‌بردار\n",
    "# باید ابتدا تجمیع انجام شود\n",
    "total_production = df.groupby(\"Operator_Company\")[\"Daily_Production\"].sum().reset_index()\n",
    "\n",
    "plt.subplot(3, 1, 3)\n",
    "sns.barplot(data=total_production, x=\"Operator_Company\", y=\"Daily_Production\")\n",
    "plt.title(\"Total Daily Production by Operator\")\n",
    "plt.xlabel(\"Operator_Company\")\n",
    "plt.ylabel(\"Total Daily Production (barrels)\")\n",
    "\n",
    "plt.tight_layout()\n",
    "plt.show()\n"
   ]
  },
  {
   "cell_type": "markdown",
   "id": "558a0570",
   "metadata": {},
   "source": [
    "# --------------------     نمودارهای ارتباطی     -------------------- "
   ]
  },
  {
   "cell_type": "code",
   "execution_count": null,
   "id": "8de4d2f1",
   "metadata": {},
   "outputs": [],
   "source": [
    "# ------------------------    Line  رسم نمودار خطی      ------------------------  \n",
    "\n",
    "# تولید یک نمودار ساده از تولید تجمعی چاه\n",
    "plt.plot(np.arange(1,101), df[\"Cumulative_Production\"])\n",
    "\n",
    "# عنوان نمودار و برچسب محورها\n",
    "plt.title(\"Cumulative Production over Time\")\n",
    "plt.xlabel(\"Production Day\")\n",
    "plt.ylabel(\"Cumulative Production\")\n",
    "\n",
    "# نمایش نمودار\n",
    "plt.tight_layout()\n",
    "plt.show()\n"
   ]
  },
  {
   "cell_type": "code",
   "execution_count": null,
   "id": "ef991729",
   "metadata": {
    "scrolled": true
   },
   "outputs": [],
   "source": [
    "fig, ax = plt.subplots(2, 1, figsize=(8, 6))  # دو ردیف، یک ستون\n",
    "\n",
    "# نمودار اول: تولید تجمعی\n",
    "ax[0].plot(np.arange(1,101), df[\"Cumulative_Production\"], color='blue')\n",
    "ax[0].set_title(\"Cumulative Production\")\n",
    "ax[0].set_xlabel(\"Production Day\")\n",
    "ax[0].set_ylabel(\"Cumulative\")\n",
    "\n",
    "# نمودار دوم: تولید روزانه\n",
    "ax[1].plot(np.arange(1,101), df[\"Daily_Production\"], 'r--')\n",
    "ax[1].set_title(\"Daily Production\")\n",
    "ax[1].set_xlabel(\"Production Day\")\n",
    "ax[1].set_ylabel(\"Daily\")\n",
    "\n",
    "plt.tight_layout()\n",
    "plt.show()\n"
   ]
  },
  {
   "cell_type": "code",
   "execution_count": null,
   "id": "2f6e31b2",
   "metadata": {},
   "outputs": [],
   "source": [
    "# ------------------------    matplot  تمرین نمودار خطی با کتابخانه ی      ------------------------ \n",
    "\n",
    "# فیلتر کردن داده‌ها بر اساس Well_Type\n",
    "df_production = df[df[\"Well_Type\"] == \"Production\"]\n",
    "df_injection = df[df[\"Well_Type\"] == \"Injection\"]\n",
    "# تنظیم اندازه شکل\n",
    "plt.figure(figsize=(12, 6))\n",
    "\n",
    "# رسم خط برای Production\n",
    "plt.plot(df_production[\"Date\"],df_production[\"Wellhead_Pressure\"],label=\"Production\",color=\"blue\",linewidth=2)\n",
    "\n",
    "# رسم خط برای Injection\n",
    "plt.plot(df_injection[\"Date\"],df_injection[\"Wellhead_Pressure\"],label=\"Injection\",color=\"orange\",linewidth=2)\n",
    "\n",
    "# تنظیمات نمودار\n",
    "plt.title(\"Wellhead Pressure Over Time by Well Type\", fontsize=16)\n",
    "plt.xlabel(\"Date\", fontsize=12)\n",
    "plt.ylabel(\"Wellhead Pressure\", fontsize=12)\n",
    "plt.grid(alpha=0.5)  # اضافه کردن شبکه\n",
    "plt.legend(fontsize=10, title=\"Well Type\", title_fontsize=12)  # تنظیم legend\n",
    "\n",
    "# نمایش نمودار\n",
    "plt.tight_layout()\n",
    "plt.show()"
   ]
  },
  {
   "cell_type": "code",
   "execution_count": null,
   "id": "84b297ad",
   "metadata": {},
   "outputs": [],
   "source": [
    "# ------------------------    seaborn  تمرین نمودار خطی با کتابخانه ی      ------------------------ \n",
    "\n",
    "plt.figure(figsize=(12, 6))\n",
    "# تولید یک نمودار ساده از تولید تجمعی چاه\n",
    "sns.lineplot(data=df, x=np.arange(1,101),y=\"Wellhead_Pressure\",hue=\"Well_Type\",  palette=\"Set2\",  linewidth=2 )\n",
    "\n",
    "# عنوان نمودار و برچسب محورها\n",
    "plt.title(\"Cumulative Production over Time\")\n",
    "plt.xlabel(\"Production Day\")\n",
    "plt.ylabel(\"Cumulative Production\")\n",
    "\n",
    "# نمایش نمودار\n",
    "plt.tight_layout()\n",
    "plt.show()\n"
   ]
  },
  {
   "cell_type": "code",
   "execution_count": null,
   "id": "5417117a",
   "metadata": {
    "scrolled": true
   },
   "outputs": [],
   "source": [
    "# ------------------------    Scatter  رسم نمودار      ------------------------  \n",
    "\n",
    "plt.figure(figsize=(8, 6))\n",
    "sns.scatterplot(data=df, x=\"Wellhead_Pressure\", y=\"Daily_Production\")\n",
    "plt.title(\"Daily Production vs. Wellhead Pressure\")\n",
    "plt.xlabel(\"Wellhead Pressure (psi)\")\n",
    "plt.ylabel(\"Daily Production (barrels)\")\n",
    "plt.grid(True)\n",
    "plt.show()\n"
   ]
  },
  {
   "cell_type": "code",
   "execution_count": null,
   "id": "d6745c74",
   "metadata": {
    "scrolled": true
   },
   "outputs": [],
   "source": [
    "# ------------------------     تمرین نمودار پراکندگی      ------------------------   \n",
    "\n",
    "plt.figure(figsize=(8, 6))\n",
    "sns.scatterplot(data=df, x=\"Temperature\", y=\"Daily_Production\", hue=\"Well_Type\")\n",
    "plt.title(\"Daily Production vs. Temperature by Well Type\")\n",
    "plt.xlabel(\"Temperature (°F)\")\n",
    "plt.ylabel(\"Daily Production (barrels)\")\n",
    "plt.grid(True)\n",
    "plt.show()\n"
   ]
  },
  {
   "cell_type": "code",
   "execution_count": null,
   "id": "791e1df6",
   "metadata": {},
   "outputs": [],
   "source": [
    "# ------------------------      رسم نمودار رگرسیون      ------------------------  \n",
    "\n",
    "plt.figure(figsize=(8, 6))\n",
    "sns.regplot(data=df, x=\"Wellhead_Pressure\", y=\"Daily_Production\", scatter_kws={'s': 50}, line_kws={'color': 'red'})\n",
    "plt.title(\"Regression of Daily Production on Wellhead Pressure\")\n",
    "plt.xlabel(\"Wellhead Pressure (psi)\")\n",
    "plt.ylabel(\"Daily Production (barrels)\")\n",
    "plt.grid(True)\n",
    "plt.show()\n"
   ]
  },
  {
   "cell_type": "code",
   "execution_count": null,
   "id": "da45dbc0",
   "metadata": {},
   "outputs": [],
   "source": [
    "# ------------------------     تمرین نمودار رگرسیون      ------------------------   \n",
    "\n",
    "plt.figure(figsize=(8, 6))\n",
    "sns.regplot(data=df, x=\"Temperature\", y=\"Daily_Production\", scatter_kws={'s': 50}, line_kws={'color': 'green'})\n",
    "plt.title(\"Regression of Daily Production on Temperature\")\n",
    "plt.xlabel(\"Temperature (°F)\")\n",
    "plt.ylabel(\"Daily Production (barrels)\")\n",
    "plt.grid(True)\n",
    "plt.show()\n"
   ]
  },
  {
   "cell_type": "code",
   "execution_count": null,
   "id": "6bbd5566",
   "metadata": {},
   "outputs": [],
   "source": [
    "# ------------------------     Pair Plot رسم نمودار جفتی       ------------------------  \n",
    "\n",
    "# انتخاب فقط ستون‌های عددی\n",
    "numeric_cols = [\"Daily_Production\", \"Wellhead_Pressure\", \"Temperature\", \"Cumulative_Production\"]\n",
    "\n",
    "# ترسیم pair plot با رنگ‌بندی بر اساس نوع چاه\n",
    "sns.pairplot(df[numeric_cols + [\"Well_Type\"]], hue=\"Well_Type\", height=2.5, corner=True)\n",
    "plt.suptitle(\"Pair Plot of Numerical Features by Well Type\", y=1.02)\n",
    "plt.show()\n"
   ]
  },
  {
   "cell_type": "code",
   "execution_count": null,
   "id": "26989888",
   "metadata": {},
   "outputs": [],
   "source": [
    "# ------------------------     Pair Plot تمرین نمودار جفتی       ------------------------  \n",
    "\n",
    "sns.pairplot(df[numeric_cols + [\"Operator_Company\"]], hue=\"Operator_Company\", height=2.5, corner=True)\n",
    "plt.suptitle(\"Pair Plot by Operator Company\", y=1.02)\n",
    "plt.show()\n"
   ]
  },
  {
   "cell_type": "code",
   "execution_count": null,
   "id": "d5337fe8",
   "metadata": {},
   "outputs": [],
   "source": [
    "# ------------------------     Heatmap رسم نمودار حرارتی       ------------------------  \n",
    "\n",
    "# محاسبه ماتریس همبستگی برای ستون‌های عددی\n",
    "corr_matrix = df[[\"Daily_Production\", \"Wellhead_Pressure\", \"Temperature\", \"Cumulative_Production\"]].corr()\n",
    "\n",
    "# رسم نقشه‌ی حرارتی با اعداد داخل سلول‌ها\n",
    "plt.figure(figsize=(8, 6))\n",
    "sns.heatmap(corr_matrix, annot=True, cmap=\"coolwarm\", fmt=\".2f\", linewidths=0.5)\n",
    "plt.title(\"Correlation Heatmap\")\n",
    "plt.tight_layout()\n",
    "plt.show()\n"
   ]
  },
  {
   "cell_type": "markdown",
   "id": "1a0ca02d",
   "metadata": {},
   "source": [
    "# --------------------     نمودارهای ماتریسی     --------------------"
   ]
  },
  {
   "cell_type": "code",
   "execution_count": null,
   "id": "dd0d3683",
   "metadata": {},
   "outputs": [],
   "source": [
    "# ------------------------     PairGrid رسم نمودار        ------------------------  \n",
    "\n",
    "\n",
    "# فقط ستون‌های عددی را انتخاب می‌کنیم\n",
    "numeric_cols = [\"Daily_Production\", \"Wellhead_Pressure\", \"Temperature\", \"Cumulative_Production\"]\n",
    "\n",
    "# ساخت PairGrid\n",
    "g = sns.PairGrid(df[numeric_cols])\n",
    "g.map_lower(sns.scatterplot, color=\"blue\", alpha=0.6)\n",
    "g.map_diag(sns.histplot, kde=True, color=\"skyblue\")\n",
    "g.map_upper(sns.kdeplot, fill=True)\n",
    "\n",
    "plt.suptitle(\"PairGrid of Numerical Features\", y=1.02)\n",
    "plt.tight_layout()\n",
    "plt.show()\n"
   ]
  },
  {
   "cell_type": "code",
   "execution_count": null,
   "id": "fd15a53d",
   "metadata": {
    "scrolled": true
   },
   "outputs": [],
   "source": [
    "# ------------------------     PairGrid تمرین نمودار        ------------------------  \n",
    "\n",
    "\n",
    "g = sns.PairGrid(df, vars=numeric_cols, hue=\"Well_Type\", palette=\"Set2\")\n",
    "g.map_lower(sns.scatterplot, alpha=0.6)\n",
    "g.map_diag(sns.kdeplot, fill=True)\n",
    "g.map_upper(sns.kdeplot, fill=True)\n",
    "\n",
    "g.add_legend(title=\"Well Type\")\n",
    "plt.suptitle(\"PairGrid Colored by Well Type\", y=1.02)\n",
    "plt.tight_layout()\n",
    "plt.show()\n"
   ]
  },
  {
   "cell_type": "code",
   "execution_count": null,
   "id": "3c6a38b6",
   "metadata": {},
   "outputs": [],
   "source": [
    "# ------------------------     ClusterMap رسم نمودار        ------------------------  \n",
    "\n",
    "\n",
    "# استخراج ستون‌های عددی\n",
    "numeric_cols = [\"Daily_Production\", \"Cumulative_Production\", \"Wellhead_Pressure\", \"Temperature\"]\n",
    "\n",
    "# ساخت Clustermap\n",
    "sns.clustermap(df[numeric_cols].dropna(), cmap=\"viridis\", standard_scale=1)\n",
    "\n",
    "plt.suptitle(\"Clustermap of Numerical Features\", y=1.05)\n",
    "plt.show()\n"
   ]
  },
  {
   "cell_type": "code",
   "execution_count": null,
   "id": "39ab1e69",
   "metadata": {},
   "outputs": [],
   "source": [
    "# ------------------------     ClusterMap تمرین نمودار        ------------------------  \n",
    "\n",
    "\n",
    "# استخراج ستون‌های عددی\n",
    "numeric_cols = [\"Daily_Production\", \"Cumulative_Production\", \"Wellhead_Pressure\", \"Temperature\"]\n",
    "\n",
    "# ساخت Clustermap\n",
    "sns.clustermap(df[numeric_cols].dropna(), cmap=\"viridis\",method='average',z_score=1)\n",
    "#sns.clustermap(df[numeric_cols].dropna(), cmap=\"viridis\",metric='cityblock',z_score=1)\n",
    "\n",
    "\n",
    "plt.suptitle(\"Clustermap of Numerical Features\", y=1.05)\n",
    "plt.show()\n"
   ]
  },
  {
   "cell_type": "code",
   "execution_count": null,
   "id": "6ad16d5f",
   "metadata": {},
   "outputs": [],
   "source": []
  }
 ],
 "metadata": {
  "kernelspec": {
   "display_name": "Python 3 (ipykernel)",
   "language": "python",
   "name": "python3"
  },
  "language_info": {
   "codemirror_mode": {
    "name": "ipython",
    "version": 3
   },
   "file_extension": ".py",
   "mimetype": "text/x-python",
   "name": "python",
   "nbconvert_exporter": "python",
   "pygments_lexer": "ipython3",
   "version": "3.10.9"
  }
 },
 "nbformat": 4,
 "nbformat_minor": 5
}
